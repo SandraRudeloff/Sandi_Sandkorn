{
 "cells": [
  {
   "cell_type": "markdown",
   "id": "0fa194dc-339e-43df-bc75-e9389f1a628d",
   "metadata": {},
   "source": [
    "# Visualize Population using lonboard\n",
    "In order to use longboard the `jupyter notebook` command needs to be used. "
   ]
  },
  {
   "cell_type": "code",
   "execution_count": null,
   "id": "d305e987-c5d1-442a-8953-48aa0b1a207e",
   "metadata": {},
   "outputs": [],
   "source": [
    "#!pip install pandas\n",
    "#!pip install lonboard"
   ]
  },
  {
   "cell_type": "markdown",
   "id": "29be626f-025c-4c0c-9101-7980a93f6194",
   "metadata": {},
   "source": [
    "You can find the documentation of lonboard here: https://developmentseed.org/lonboard/latest/"
   ]
  },
  {
   "cell_type": "code",
   "execution_count": 2,
   "id": "0ffbe742-9fdd-4efe-9200-8efd8f78f168",
   "metadata": {
    "scrolled": true
   },
   "outputs": [],
   "source": [
    "import requests\n",
    "import zipfile\n",
    "import io\n",
    "import pandas as pd\n",
    "from lonboard import Map, SolidPolygonLayer, basemap, viz, ScatterplotLayer\n",
    "from lonboard.layer_extension import DataFilterExtension\n",
    "import ipywidgets as widgets\n",
    "from ipywidgets import IntRangeSlider, jsdlink\n",
    "\n",
    "import matplotlib as mpl\n",
    "import matplotlib.pyplot as plt\n",
    "from matplotlib.colors import LogNorm\n",
    "import matplotlib.ticker as mticker\n",
    "import sys\n",
    "\n",
    "import geopandas as gpd\n",
    "from shapely.geometry import Polygon\n",
    "import ipywidgets as widgets\n",
    "import io\n",
    "\n",
    "import matplotlib.pyplot as plt\n",
    "import matplotlib.ticker as mticker\n",
    "from matplotlib.colors import LogNorm\n",
    "import numpy as np\n",
    "import ipywidgets as widgets\n",
    "\n",
    "import seaborn as sns\n",
    "import matplotlib.pyplot as plt\n",
    "from matplotlib.ticker import FuncFormatter"
   ]
  },
  {
   "cell_type": "markdown",
   "id": "32c74059",
   "metadata": {},
   "source": [
    "# Import and transform population data"
   ]
  },
  {
   "cell_type": "markdown",
   "id": "3bb7efe8-cc86-4dc9-9669-78c099d4b774",
   "metadata": {},
   "source": [
    "First, we are loading the German population data from the web into a pandas dataframe. "
   ]
  },
  {
   "cell_type": "code",
   "execution_count": 33,
   "id": "c2d4910d",
   "metadata": {},
   "outputs": [],
   "source": [
    "url = \"https://www.zensus2022.de/static/Zensus_Veroeffentlichung/Zensus2022_Bevoelkerungszahl.zip\"\n",
    "target_file = \"Zensus2022_Bevoelkerungszahl_100m-Gitter.csv\"\n",
    "\n",
    "response = requests.get(url)\n",
    "\n",
    "if response.status_code == 200:\n",
    "    with zipfile.ZipFile(io.BytesIO(response.content)) as zip_ref: # Open the ZIP file in memory\n",
    "        if target_file in zip_ref.namelist():\n",
    "            with zip_ref.open(target_file) as csv_file:\n",
    "                df_pop = pd.read_csv(csv_file, delimiter=';') \n",
    "        else:\n",
    "            print(f\"{target_file} not found in the ZIP archive.\")\n",
    "else:\n",
    "    print(f\"Failed to download file: {response.status_code}\")"
   ]
  },
  {
   "cell_type": "code",
   "execution_count": 4,
   "id": "fbf9ac13",
   "metadata": {},
   "outputs": [
    {
     "data": {
      "text/html": [
       "<div>\n",
       "<style scoped>\n",
       "    .dataframe tbody tr th:only-of-type {\n",
       "        vertical-align: middle;\n",
       "    }\n",
       "\n",
       "    .dataframe tbody tr th {\n",
       "        vertical-align: top;\n",
       "    }\n",
       "\n",
       "    .dataframe thead th {\n",
       "        text-align: right;\n",
       "    }\n",
       "</style>\n",
       "<table border=\"1\" class=\"dataframe\">\n",
       "  <thead>\n",
       "    <tr style=\"text-align: right;\">\n",
       "      <th></th>\n",
       "      <th>GITTER_ID_100m</th>\n",
       "      <th>x_mp_100m</th>\n",
       "      <th>y_mp_100m</th>\n",
       "      <th>Einwohner</th>\n",
       "    </tr>\n",
       "  </thead>\n",
       "  <tbody>\n",
       "    <tr>\n",
       "      <th>0</th>\n",
       "      <td>CRS3035RES100mN2689100E4337000</td>\n",
       "      <td>4337050</td>\n",
       "      <td>2689150</td>\n",
       "      <td>4</td>\n",
       "    </tr>\n",
       "    <tr>\n",
       "      <th>1</th>\n",
       "      <td>CRS3035RES100mN2689100E4341100</td>\n",
       "      <td>4341150</td>\n",
       "      <td>2689150</td>\n",
       "      <td>11</td>\n",
       "    </tr>\n",
       "    <tr>\n",
       "      <th>2</th>\n",
       "      <td>CRS3035RES100mN2690800E4341200</td>\n",
       "      <td>4341250</td>\n",
       "      <td>2690850</td>\n",
       "      <td>4</td>\n",
       "    </tr>\n",
       "    <tr>\n",
       "      <th>3</th>\n",
       "      <td>CRS3035RES100mN2691200E4341200</td>\n",
       "      <td>4341250</td>\n",
       "      <td>2691250</td>\n",
       "      <td>12</td>\n",
       "    </tr>\n",
       "    <tr>\n",
       "      <th>4</th>\n",
       "      <td>CRS3035RES100mN2691300E4341200</td>\n",
       "      <td>4341250</td>\n",
       "      <td>2691350</td>\n",
       "      <td>3</td>\n",
       "    </tr>\n",
       "  </tbody>\n",
       "</table>\n",
       "</div>"
      ],
      "text/plain": [
       "                   GITTER_ID_100m  x_mp_100m  y_mp_100m  Einwohner\n",
       "0  CRS3035RES100mN2689100E4337000    4337050    2689150          4\n",
       "1  CRS3035RES100mN2689100E4341100    4341150    2689150         11\n",
       "2  CRS3035RES100mN2690800E4341200    4341250    2690850          4\n",
       "3  CRS3035RES100mN2691200E4341200    4341250    2691250         12\n",
       "4  CRS3035RES100mN2691300E4341200    4341250    2691350          3"
      ]
     },
     "execution_count": 4,
     "metadata": {},
     "output_type": "execute_result"
    }
   ],
   "source": [
    "df_pop.head()"
   ]
  },
  {
   "cell_type": "code",
   "execution_count": 5,
   "id": "5fa1dbdc-d61e-4daa-91af-8d440c9301da",
   "metadata": {},
   "outputs": [],
   "source": [
    "df_pop.rename(columns={'GITTER_ID_100m': 'Cell_ID', 'Einwohner': 'Population'}, inplace=True)"
   ]
  },
  {
   "cell_type": "markdown",
   "id": "7ba7fdf3-f70e-4693-b639-04e3581dded5",
   "metadata": {},
   "source": [
    "We can see that there is 4 columns. In order to visualize the data, we need to transform the coordinates into Polygons. The current Coordinate Reference system of the data is [ETRS89-LAEA Europe (EPSG: 3035)](https://epsg.io/3035) which is made for Europe and measured in meters. Since we know each cell is 100mx100m and the x_mp_100m and y_mp_100m are the geographic longitude and latitude respectively, we can calcualte the corner points easily. "
   ]
  },
  {
   "cell_type": "code",
   "execution_count": 6,
   "id": "7d90c6f5",
   "metadata": {},
   "outputs": [],
   "source": [
    "df_pop['Population'] = pd.to_numeric(df_pop['Population'], errors='coerce') # coerce: any value that cannot be converted to a numeric type will be replaced with NaN"
   ]
  },
  {
   "cell_type": "code",
   "execution_count": 7,
   "id": "ebaad8e0",
   "metadata": {},
   "outputs": [],
   "source": [
    "def create_polygon(x, y, length=100):\n",
    "    half_length = length / 2\n",
    "    return Polygon([\n",
    "        (x - half_length, y - half_length),\n",
    "        (x + half_length, y - half_length),\n",
    "        (x + half_length, y + half_length),\n",
    "        (x - half_length, y + half_length)\n",
    "    ])"
   ]
  },
  {
   "cell_type": "code",
   "execution_count": 8,
   "id": "5b94bf16",
   "metadata": {},
   "outputs": [],
   "source": [
    "gdf_population = gpd.GeoDataFrame(df_pop, geometry=df_pop.apply(lambda row: create_polygon(row['x_mp_100m'], row['y_mp_100m']), axis=1))"
   ]
  },
  {
   "cell_type": "code",
   "execution_count": 9,
   "id": "b3eee8c1-3b54-4d89-8de2-719aa70508e7",
   "metadata": {
    "scrolled": true
   },
   "outputs": [],
   "source": [
    "# Convert the coordinate system to WGS84 (EPSG:4326)\n",
    "gdf_population = gdf_population.set_crs(epsg=3035)\n",
    "gdf_population = gdf_population.to_crs(epsg=4326)"
   ]
  },
  {
   "cell_type": "code",
   "execution_count": 10,
   "id": "63224a9e-3aa4-4e1e-93ac-b1a0395c84e4",
   "metadata": {},
   "outputs": [
    {
     "data": {
      "text/html": [
       "<div>\n",
       "<style scoped>\n",
       "    .dataframe tbody tr th:only-of-type {\n",
       "        vertical-align: middle;\n",
       "    }\n",
       "\n",
       "    .dataframe tbody tr th {\n",
       "        vertical-align: top;\n",
       "    }\n",
       "\n",
       "    .dataframe thead th {\n",
       "        text-align: right;\n",
       "    }\n",
       "</style>\n",
       "<table border=\"1\" class=\"dataframe\">\n",
       "  <thead>\n",
       "    <tr style=\"text-align: right;\">\n",
       "      <th></th>\n",
       "      <th>Cell_ID</th>\n",
       "      <th>x_mp_100m</th>\n",
       "      <th>y_mp_100m</th>\n",
       "      <th>Population</th>\n",
       "      <th>geometry</th>\n",
       "    </tr>\n",
       "  </thead>\n",
       "  <tbody>\n",
       "    <tr>\n",
       "      <th>0</th>\n",
       "      <td>CRS3035RES100mN2689100E4337000</td>\n",
       "      <td>4337050</td>\n",
       "      <td>2689150</td>\n",
       "      <td>4</td>\n",
       "      <td>POLYGON ((10.21146 47.31529, 10.21278 47.31529...</td>\n",
       "    </tr>\n",
       "    <tr>\n",
       "      <th>1</th>\n",
       "      <td>CRS3035RES100mN2689100E4341100</td>\n",
       "      <td>4341150</td>\n",
       "      <td>2689150</td>\n",
       "      <td>11</td>\n",
       "      <td>POLYGON ((10.26565 47.31517, 10.26697 47.31517...</td>\n",
       "    </tr>\n",
       "    <tr>\n",
       "      <th>2</th>\n",
       "      <td>CRS3035RES100mN2690800E4341200</td>\n",
       "      <td>4341250</td>\n",
       "      <td>2690850</td>\n",
       "      <td>4</td>\n",
       "      <td>POLYGON ((10.26705 47.33047, 10.26837 47.33046...</td>\n",
       "    </tr>\n",
       "    <tr>\n",
       "      <th>3</th>\n",
       "      <td>CRS3035RES100mN2691200E4341200</td>\n",
       "      <td>4341250</td>\n",
       "      <td>2691250</td>\n",
       "      <td>12</td>\n",
       "      <td>POLYGON ((10.26707 47.33407, 10.26839 47.33407...</td>\n",
       "    </tr>\n",
       "    <tr>\n",
       "      <th>4</th>\n",
       "      <td>CRS3035RES100mN2691300E4341200</td>\n",
       "      <td>4341250</td>\n",
       "      <td>2691350</td>\n",
       "      <td>3</td>\n",
       "      <td>POLYGON ((10.26707 47.33497, 10.26839 47.33497...</td>\n",
       "    </tr>\n",
       "    <tr>\n",
       "      <th>...</th>\n",
       "      <td>...</td>\n",
       "      <td>...</td>\n",
       "      <td>...</td>\n",
       "      <td>...</td>\n",
       "      <td>...</td>\n",
       "    </tr>\n",
       "    <tr>\n",
       "      <th>3088032</th>\n",
       "      <td>CRS3035RES100mN3547500E4220100</td>\n",
       "      <td>4220150</td>\n",
       "      <td>3547550</td>\n",
       "      <td>14</td>\n",
       "      <td>POLYGON ((8.42288 55.02299, 8.42445 55.02301, ...</td>\n",
       "    </tr>\n",
       "    <tr>\n",
       "      <th>3088033</th>\n",
       "      <td>CRS3035RES100mN3547600E4219800</td>\n",
       "      <td>4219850</td>\n",
       "      <td>3547650</td>\n",
       "      <td>4</td>\n",
       "      <td>POLYGON ((8.41816 55.02383, 8.41972 55.02385, ...</td>\n",
       "    </tr>\n",
       "    <tr>\n",
       "      <th>3088034</th>\n",
       "      <td>CRS3035RES100mN3547600E4219900</td>\n",
       "      <td>4219950</td>\n",
       "      <td>3547650</td>\n",
       "      <td>10</td>\n",
       "      <td>POLYGON ((8.41972 55.02385, 8.42129 55.02387, ...</td>\n",
       "    </tr>\n",
       "    <tr>\n",
       "      <th>3088035</th>\n",
       "      <td>CRS3035RES100mN3547600E4220000</td>\n",
       "      <td>4220050</td>\n",
       "      <td>3547650</td>\n",
       "      <td>3</td>\n",
       "      <td>POLYGON ((8.42129 55.02387, 8.42285 55.02389, ...</td>\n",
       "    </tr>\n",
       "    <tr>\n",
       "      <th>3088036</th>\n",
       "      <td>CRS3035RES100mN3547600E4220100</td>\n",
       "      <td>4220150</td>\n",
       "      <td>3547650</td>\n",
       "      <td>3</td>\n",
       "      <td>POLYGON ((8.42285 55.02389, 8.42441 55.02391, ...</td>\n",
       "    </tr>\n",
       "  </tbody>\n",
       "</table>\n",
       "<p>3088037 rows × 5 columns</p>\n",
       "</div>"
      ],
      "text/plain": [
       "                                Cell_ID  x_mp_100m  y_mp_100m  Population  \\\n",
       "0        CRS3035RES100mN2689100E4337000    4337050    2689150           4   \n",
       "1        CRS3035RES100mN2689100E4341100    4341150    2689150          11   \n",
       "2        CRS3035RES100mN2690800E4341200    4341250    2690850           4   \n",
       "3        CRS3035RES100mN2691200E4341200    4341250    2691250          12   \n",
       "4        CRS3035RES100mN2691300E4341200    4341250    2691350           3   \n",
       "...                                 ...        ...        ...         ...   \n",
       "3088032  CRS3035RES100mN3547500E4220100    4220150    3547550          14   \n",
       "3088033  CRS3035RES100mN3547600E4219800    4219850    3547650           4   \n",
       "3088034  CRS3035RES100mN3547600E4219900    4219950    3547650          10   \n",
       "3088035  CRS3035RES100mN3547600E4220000    4220050    3547650           3   \n",
       "3088036  CRS3035RES100mN3547600E4220100    4220150    3547650           3   \n",
       "\n",
       "                                                  geometry  \n",
       "0        POLYGON ((10.21146 47.31529, 10.21278 47.31529...  \n",
       "1        POLYGON ((10.26565 47.31517, 10.26697 47.31517...  \n",
       "2        POLYGON ((10.26705 47.33047, 10.26837 47.33046...  \n",
       "3        POLYGON ((10.26707 47.33407, 10.26839 47.33407...  \n",
       "4        POLYGON ((10.26707 47.33497, 10.26839 47.33497...  \n",
       "...                                                    ...  \n",
       "3088032  POLYGON ((8.42288 55.02299, 8.42445 55.02301, ...  \n",
       "3088033  POLYGON ((8.41816 55.02383, 8.41972 55.02385, ...  \n",
       "3088034  POLYGON ((8.41972 55.02385, 8.42129 55.02387, ...  \n",
       "3088035  POLYGON ((8.42129 55.02387, 8.42285 55.02389, ...  \n",
       "3088036  POLYGON ((8.42285 55.02389, 8.42441 55.02391, ...  \n",
       "\n",
       "[3088037 rows x 5 columns]"
      ]
     },
     "execution_count": 10,
     "metadata": {},
     "output_type": "execute_result"
    }
   ],
   "source": [
    "gdf_population"
   ]
  },
  {
   "cell_type": "markdown",
   "id": "d7962427-bd81-4858-98d5-66b8f91d0820",
   "metadata": {},
   "source": [
    "# Visualize Data"
   ]
  },
  {
   "cell_type": "code",
   "execution_count": 11,
   "id": "d6eba3c7-27d2-4a5b-9ac2-d67512cec662",
   "metadata": {},
   "outputs": [
    {
     "name": "stdout",
     "output_type": "stream",
     "text": [
      "Size of GeoDataFrame: 326.89 MB\n"
     ]
    }
   ],
   "source": [
    "size_in_mb = sys.getsizeof(gdf_population)/ (1024 ** 2)  # 1 MB = 1024^2 bytes\n",
    "print(f\"Size of GeoDataFrame: {size_in_mb:.2f} MB\")"
   ]
  },
  {
   "cell_type": "markdown",
   "id": "4a63f8e9-c688-4173-8f8d-3d0b013b589e",
   "metadata": {},
   "source": [
    "We pick [SolidPolygonLayer](https://developmentseed.org/lonboard/latest/api/layers/solid-polygon-layer/) because it is more performant and we do not need the outline around polygons to be rendered."
   ]
  },
  {
   "cell_type": "code",
   "execution_count": 28,
   "id": "968c5a6d-5def-4815-9a65-6e27105d7300",
   "metadata": {},
   "outputs": [],
   "source": [
    "polygon_layer = SolidPolygonLayer.from_geopandas(\n",
    "    gdf_population,\n",
    ")\n",
    "\n",
    "m = Map([ polygon_layer], basemap_style = basemap.CartoBasemap.PositronNoLabels)"
   ]
  },
  {
   "cell_type": "code",
   "execution_count": 34,
   "id": "70f35514-30b1-46bc-9f40-c88c06a1ea31",
   "metadata": {},
   "outputs": [
    {
     "data": {
      "application/vnd.jupyter.widget-view+json": {
       "model_id": "8d4489df1e154a64b0f3d282f3596f72",
       "version_major": 2,
       "version_minor": 1
      },
      "text/plain": [
       "Map(layers=[SolidPolygonLayer(table=pyarrow.Table\n",
       "Cell_ID: string\n",
       "x_mp_100m: uint32\n",
       "y_mp_100m: uint32\n",
       "Populati…"
      ]
     },
     "execution_count": 34,
     "metadata": {},
     "output_type": "execute_result"
    }
   ],
   "source": [
    "m"
   ]
  },
  {
   "cell_type": "markdown",
   "id": "98817efa-e631-4e6a-b628-d69d3e21d894",
   "metadata": {},
   "source": [
    "Now, we we want to adjust the color, with the \"get_fill_color\" parameter"
   ]
  },
  {
   "cell_type": "markdown",
   "id": "c8938b14-fefa-4d4e-a86e-fdaad50adeb1",
   "metadata": {},
   "source": [
    "## Set a colormap"
   ]
  },
  {
   "cell_type": "code",
   "execution_count": 15,
   "id": "784ecdf5-3589-4247-81fd-d27bca8df0c6",
   "metadata": {},
   "outputs": [],
   "source": [
    "polygon_layer.get_fill_color = [0,0,200,200]"
   ]
  },
  {
   "cell_type": "code",
   "execution_count": 16,
   "id": "d8b2a500-4cbe-4e52-9a43-19e350e8bc49",
   "metadata": {},
   "outputs": [],
   "source": [
    "colormap = mpl.colormaps[\"YlOrRd\"]\n",
    "normalizer = mpl.colors.Normalize(0, vmax=gdf_population['Population'].max()) #Normalize population to the 0-1 range\n",
    "colors = colormap(normalizer(gdf_population['Population']), bytes=True)"
   ]
  },
  {
   "cell_type": "code",
   "execution_count": 17,
   "id": "8d49efe7-0cd6-412b-904a-fdc9e7984ca5",
   "metadata": {},
   "outputs": [],
   "source": [
    "polygon_layer.get_fill_color = colors"
   ]
  },
  {
   "cell_type": "markdown",
   "id": "32013d56-b830-4013-8dd5-b9c317f58882",
   "metadata": {},
   "source": [
    "It seems like red is not really used, maybe the data is skewed?"
   ]
  },
  {
   "cell_type": "code",
   "execution_count": null,
   "id": "a1519461-1d75-463c-807e-5a80b582f05a",
   "metadata": {},
   "outputs": [],
   "source": [
    "# formatter function to add commas as thousands separators\n",
    "def thousands_formatter(x, pos):\n",
    "    return f'{int(x):,}'"
   ]
  },
  {
   "cell_type": "code",
   "execution_count": 18,
   "id": "8e232dac-3337-4539-be8e-2364dcc148c2",
   "metadata": {},
   "outputs": [
    {
     "data": {
      "image/png": "[encoded data removed]",
      "text/plain": [
       "<Figure size 640x480 with 1 Axes>"
      ]
     },
     "metadata": {},
     "output_type": "display_data"
    }
   ],
   "source": [
    "sns.histplot(gdf_population['Population'], bins=100)\n",
    "\n",
    "plt.gca().yaxis.set_major_formatter(FuncFormatter(thousands_formatter))\n",
    "plt.show()"
   ]
  },
  {
   "cell_type": "code",
   "execution_count": 19,
   "id": "7a8de361-bf09-4d96-bfb6-d0aece0f15bb",
   "metadata": {},
   "outputs": [
    {
     "name": "stdout",
     "output_type": "stream",
     "text": [
      "4.7072006305650085\n"
     ]
    }
   ],
   "source": [
    "print(gdf_population['Population'].skew())"
   ]
  },
  {
   "cell_type": "markdown",
   "id": "ddb2155d-3a51-44ab-b5db-38278bda31d9",
   "metadata": {},
   "source": [
    "Extreme positive skew (majority of data points is low and only few exceptional large values"
   ]
  },
  {
   "cell_type": "markdown",
   "id": "0c56de71-e260-4bdb-a908-42cd37daf53c",
   "metadata": {},
   "source": [
    "Now there is not so many different colors if we use a linear colormap, so we can use a log one"
   ]
  },
  {
   "cell_type": "code",
   "execution_count": 20,
   "id": "60aa3f6e-d13a-4f44-9cf9-fa94dcfa1cd0",
   "metadata": {},
   "outputs": [],
   "source": [
    "normalizer = mpl.colors.LogNorm(vmin=gdf_population['Population'].min(), vmax=gdf_population['Population'].max()) # Normalize population to the 0-1 range on a log scale.\n",
    "colors = colormap(normalizer(gdf_population['Population']), bytes=True)"
   ]
  },
  {
   "cell_type": "code",
   "execution_count": 21,
   "id": "dc4ef1d9-cdda-4ff7-8b64-293f19809711",
   "metadata": {},
   "outputs": [],
   "source": [
    "polygon_layer.get_fill_color = colors"
   ]
  },
  {
   "cell_type": "markdown",
   "id": "e5dab069-ce32-4248-8804-64bf3baafc8b",
   "metadata": {},
   "source": [
    "## Add a Legend"
   ]
  },
  {
   "cell_type": "code",
   "execution_count": 35,
   "id": "7d5548da-5130-4410-8e0e-707341214a7f",
   "metadata": {},
   "outputs": [],
   "source": [
    "\n",
    "\n",
    "\n",
    "# Create the figure and axis for the colorbar\n",
    "fig, ax = plt.subplots(figsize=(8, 0.8))\n",
    "\n",
    "# Define the colorbar with LogNorm and the specified colormap\n",
    "cbar = plt.colorbar(\n",
    "    plt.cm.ScalarMappable(norm=LogNorm(vmin=gdf_population['Population'].min(), vmax=gdf_population['Population'].max()), cmap=colormap),\n",
    "    cax=ax,\n",
    "    orientation='horizontal'\n",
    ")\n",
    "\n",
    "# Set specific ticks for the logarithmic scale\n",
    "tick_values = np.logspace(np.log10(gdf_population['Population'].min()), np.log10(gdf_population['Population'].max()), num=5, base=10.0)\n",
    "cbar.set_ticks(tick_values)\n",
    "cbar.ax.xaxis.set_major_formatter(mticker.FuncFormatter(thousands_formatter))\n",
    "cbar.ax.tick_params(labelsize=8)\n",
    "\n",
    "# Set the label and adjust tick parameters\n",
    "cbar.set_label('Population per cell', fontsize=10)\n",
    "\n",
    "# Use Output widget to capture the colorbar plot\n",
    "colorbar_output = widgets.Output()\n",
    "\n",
    "with colorbar_output:\n",
    "    plt.tight_layout()\n",
    "    plt.show()"
   ]
  },
  {
   "cell_type": "code",
   "execution_count": 36,
   "id": "b8f04f23-e1f4-436d-bfd8-a2ea2c9c87bd",
   "metadata": {},
   "outputs": [
    {
     "data": {
      "application/vnd.jupyter.widget-view+json": {
       "model_id": "defbd2bfbfa1446f8b8a7c6b0ed2f76e",
       "version_major": 2,
       "version_minor": 0
      },
      "text/plain": [
       "VBox(children=(Map(layers=[SolidPolygonLayer(table=pyarrow.Table\n",
       "Cell_ID: string\n",
       "x_mp_100m: uint32\n",
       "y_mp_100m: …"
      ]
     },
     "execution_count": 36,
     "metadata": {},
     "output_type": "execute_result"
    }
   ],
   "source": [
    "widgets.VBox([m, colorbar_output])"
   ]
  },
  {
   "cell_type": "markdown",
   "id": "52fb9de8-6ba8-4966-816d-1db6a55ac01c",
   "metadata": {},
   "source": [
    "## Filter Data"
   ]
  },
  {
   "cell_type": "code",
   "execution_count": 64,
   "id": "c48e65c1-53b0-45ab-8fca-44498fa186de",
   "metadata": {},
   "outputs": [],
   "source": [
    "\n",
    "filter_extension = DataFilterExtension()"
   ]
  },
  {
   "cell_type": "code",
   "execution_count": 82,
   "id": "cbbb71fc-f8fd-4576-8942-3212f0e70a6a",
   "metadata": {},
   "outputs": [],
   "source": [
    "polygon_layer = SolidPolygonLayer.from_geopandas(\n",
    "    gdf_population,\n",
    "    extensions=[filter_extension],\n",
    "    get_filter_value=gdf_population['Population'], \n",
    "    filter_range=[3, 3549] \n",
    ")"
   ]
  },
  {
   "cell_type": "code",
   "execution_count": 91,
   "id": "ee405cbc-e452-4ec6-a579-0e6218d91136",
   "metadata": {
    "scrolled": true
   },
   "outputs": [],
   "source": [
    "\n",
    "\n",
    "# Suppress output using widgets.Output\n",
    "with widgets.Output():\n",
    "    # Create the slider with integer values and longer width\n",
    "    slider = IntRangeSlider(\n",
    "        value=(3, 25),\n",
    "        min=3,\n",
    "        max=3549,\n",
    "        step=10,\n",
    "        description=\"Slider: \",\n",
    "        layout=widgets.Layout(width='600px'), # Adjust the width of the slider\n",
    "    )\n",
    "\n",
    "    # Link the slider to the polygon layer without displaying any output\n",
    "    jsdlink(\n",
    "        (slider, \"value\"),\n",
    "        (polygon_layer, \"filter_range\")\n",
    "    )"
   ]
  },
  {
   "cell_type": "code",
   "execution_count": 84,
   "id": "ada52da0-6f77-443a-b289-a111918c17a2",
   "metadata": {},
   "outputs": [
    {
     "data": {
      "application/vnd.jupyter.widget-view+json": {
       "model_id": "e3a57abb0d2b4245bb09d89cdfdeb50e",
       "version_major": 2,
       "version_minor": 1
      },
      "text/plain": [
       "Map(layers=[SolidPolygonLayer(extensions=[DataFilterExtension()], filter_range=[3.0, 50.0], get_filter_value=<…"
      ]
     },
     "execution_count": 84,
     "metadata": {},
     "output_type": "execute_result"
    }
   ],
   "source": [
    "m = Map(polygon_layer)\n",
    "m"
   ]
  },
  {
   "cell_type": "code",
   "execution_count": 92,
   "id": "45d75174-25ac-46ca-90e9-0189a432ef59",
   "metadata": {},
   "outputs": [
    {
     "data": {
      "application/vnd.jupyter.widget-view+json": {
       "model_id": "5e92eca6a16a42fab7fda3cec7c365d4",
       "version_major": 2,
       "version_minor": 0
      },
      "text/plain": [
       "IntRangeSlider(value=(3, 25), description='Slider: ', layout=Layout(width='600px'), max=3549, min=3, step=10)"
      ]
     },
     "execution_count": 92,
     "metadata": {},
     "output_type": "execute_result"
    }
   ],
   "source": [
    "slider"
   ]
  },
  {
   "cell_type": "markdown",
   "id": "0cfea212-0a1f-4eab-984a-c859fcc7dd02",
   "metadata": {},
   "source": [
    "## Save to HTML"
   ]
  },
  {
   "cell_type": "code",
   "execution_count": null,
   "id": "63d5dcfd-053b-4a6c-94bb-04c1cc14ab1b",
   "metadata": {},
   "outputs": [],
   "source": [
    "m.to_html(\"visualization_population.html\")"
   ]
  },
  {
   "cell_type": "code",
   "execution_count": null,
   "id": "d86903c8-734a-4907-bcf9-b5213a6f1d85",
   "metadata": {},
   "outputs": [],
   "source": [
    "!open test.html"
   ]
  },
  {
   "cell_type": "markdown",
   "id": "335ac80b-b589-4109-8e57-c33f1f444813",
   "metadata": {},
   "source": [
    "# Visualize elevation"
   ]
  },
  {
   "cell_type": "code",
   "execution_count": null,
   "id": "b4893f78-ae9f-496d-9223-2c30ecf5f764",
   "metadata": {},
   "outputs": [],
   "source": [
    "polygon_layer.get_elevation = 1000 * normalized_einwohner"
   ]
  },
  {
   "cell_type": "code",
   "execution_count": null,
   "id": "523febd1-3e3b-497a-a460-a44ebc3a6a71",
   "metadata": {},
   "outputs": [],
   "source": [
    "polygon_layer.extruded = True\n",
    "\n"
   ]
  }
 ],
 "metadata": {
  "kernelspec": {
   "display_name": "Python (lonboard_vis)",
   "language": "python",
   "name": "lonboard_vis"
  },
  "language_info": {
   "codemirror_mode": {
    "name": "ipython",
    "version": 3
   },
   "file_extension": ".py",
   "mimetype": "text/x-python",
   "name": "python",
   "nbconvert_exporter": "python",
   "pygments_lexer": "ipython3",
   "version": "3.12.3"
  }
 },
 "nbformat": 4,
 "nbformat_minor": 5
}
