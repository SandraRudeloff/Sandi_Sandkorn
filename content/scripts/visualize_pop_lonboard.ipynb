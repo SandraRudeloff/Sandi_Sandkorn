{
 "cells": [
  {
   "cell_type": "markdown",
   "metadata": {},
   "source": [
    "# Imports"
   ]
  },
  {
   "cell_type": "code",
   "execution_count": 26,
   "metadata": {},
   "outputs": [],
   "source": [
    "import requests\n",
    "import zipfile\n",
    "import io\n",
    "import sys\n",
    "\n",
    "from lonboard import Map, SolidPolygonLayer\n",
    "from lonboard.layer_extension import DataFilterExtension\n",
    "import ipywidgets as widgets\n",
    "\n",
    "import pandas as pd\n",
    "import numpy as np\n",
    "import geopandas as gpd\n",
    "\n",
    "import matplotlib as mpl\n",
    "import matplotlib.pyplot as plt\n",
    "from matplotlib.colors import LogNorm\n",
    "import matplotlib.ticker as mticker\n",
    "\n",
    "from shapely.geometry import Polygon\n",
    "\n",
    "import seaborn as sns"
   ]
  },
  {
   "cell_type": "markdown",
   "metadata": {},
   "source": [
    "# Fetch Data\n",
    "Our population data is stored in a .csv file inside a zip folder. Let’s fetch it and load it into a pandas DataFrame."
   ]
  },
  {
   "cell_type": "code",
   "execution_count": 16,
   "metadata": {},
   "outputs": [],
   "source": [
    "url = \"https://www.zensus2022.de/static/Zensus_Veroeffentlichung/Zensus2022_Bevoelkerungszahl.zip\"\n",
    "target_file = \"Zensus2022_Bevoelkerungszahl_100m-Gitter.csv\""
   ]
  },
  {
   "cell_type": "code",
   "execution_count": 17,
   "metadata": {
    "editable": true,
    "slideshow": {
     "slide_type": ""
    },
    "tags": []
   },
   "outputs": [],
   "source": [
    "response = requests.get(url)\n",
    "\n",
    "with zipfile.ZipFile(io.BytesIO(response.content)) as zip_ref: # Open the ZIP file in memory\n",
    "    with zip_ref.open(target_file) as csv_file:\n",
    "        df_pop = pd.read_csv(csv_file, delimiter=';') "
   ]
  },
  {
   "cell_type": "code",
   "execution_count": 18,
   "metadata": {},
   "outputs": [
    {
     "data": {
      "text/html": [
       "<div>\n",
       "<style scoped>\n",
       "    .dataframe tbody tr th:only-of-type {\n",
       "        vertical-align: middle;\n",
       "    }\n",
       "\n",
       "    .dataframe tbody tr th {\n",
       "        vertical-align: top;\n",
       "    }\n",
       "\n",
       "    .dataframe thead th {\n",
       "        text-align: right;\n",
       "    }\n",
       "</style>\n",
       "<table border=\"1\" class=\"dataframe\">\n",
       "  <thead>\n",
       "    <tr style=\"text-align: right;\">\n",
       "      <th></th>\n",
       "      <th>GITTER_ID_100m</th>\n",
       "      <th>x_mp_100m</th>\n",
       "      <th>y_mp_100m</th>\n",
       "      <th>Einwohner</th>\n",
       "    </tr>\n",
       "  </thead>\n",
       "  <tbody>\n",
       "    <tr>\n",
       "      <th>0</th>\n",
       "      <td>CRS3035RES100mN2689100E4337000</td>\n",
       "      <td>4337050</td>\n",
       "      <td>2689150</td>\n",
       "      <td>4</td>\n",
       "    </tr>\n",
       "    <tr>\n",
       "      <th>1</th>\n",
       "      <td>CRS3035RES100mN2689100E4341100</td>\n",
       "      <td>4341150</td>\n",
       "      <td>2689150</td>\n",
       "      <td>11</td>\n",
       "    </tr>\n",
       "    <tr>\n",
       "      <th>2</th>\n",
       "      <td>CRS3035RES100mN2690800E4341200</td>\n",
       "      <td>4341250</td>\n",
       "      <td>2690850</td>\n",
       "      <td>4</td>\n",
       "    </tr>\n",
       "    <tr>\n",
       "      <th>3</th>\n",
       "      <td>CRS3035RES100mN2691200E4341200</td>\n",
       "      <td>4341250</td>\n",
       "      <td>2691250</td>\n",
       "      <td>12</td>\n",
       "    </tr>\n",
       "    <tr>\n",
       "      <th>4</th>\n",
       "      <td>CRS3035RES100mN2691300E4341200</td>\n",
       "      <td>4341250</td>\n",
       "      <td>2691350</td>\n",
       "      <td>3</td>\n",
       "    </tr>\n",
       "  </tbody>\n",
       "</table>\n",
       "</div>"
      ],
      "text/plain": [
       "                   GITTER_ID_100m  x_mp_100m  y_mp_100m  Einwohner\n",
       "0  CRS3035RES100mN2689100E4337000    4337050    2689150          4\n",
       "1  CRS3035RES100mN2689100E4341100    4341150    2689150         11\n",
       "2  CRS3035RES100mN2690800E4341200    4341250    2690850          4\n",
       "3  CRS3035RES100mN2691200E4341200    4341250    2691250         12\n",
       "4  CRS3035RES100mN2691300E4341200    4341250    2691350          3"
      ]
     },
     "execution_count": 18,
     "metadata": {},
     "output_type": "execute_result"
    }
   ],
   "source": [
    "df_pop.head()"
   ]
  },
  {
   "cell_type": "code",
   "execution_count": 22,
   "metadata": {},
   "outputs": [],
   "source": [
    "df_pop.rename( columns = {'Einwohner':'Population'}, inplace = True)"
   ]
  },
  {
   "cell_type": "code",
   "execution_count": 27,
   "metadata": {},
   "outputs": [],
   "source": [
    "def create_polygon(x, y, half_length=50):\n",
    "    return Polygon([\n",
    "        (x - half_length, y - half_length),\n",
    "        (x + half_length, y - half_length),\n",
    "        (x + half_length, y + half_length),\n",
    "        (x - half_length, y + half_length)\n",
    "    ])"
   ]
  },
  {
   "cell_type": "code",
   "execution_count": 29,
   "metadata": {},
   "outputs": [],
   "source": [
    "gdf_population = gpd.GeoDataFrame(df_pop['Population'], geometry = df_pop.apply(lambda row: create_polygon(row['x_mp_100m'], row['y_mp_100m']), axis = 1), crs = 'EPSG:3035')"
   ]
  },
  {
   "cell_type": "code",
   "execution_count": 35,
   "metadata": {},
   "outputs": [],
   "source": [
    "gdf_population = gdf_population.to_crs(epsg = 4326)"
   ]
  },
  {
   "cell_type": "code",
   "execution_count": 37,
   "metadata": {},
   "outputs": [
    {
     "name": "stdout",
     "output_type": "stream",
     "text": [
      "<class 'geopandas.geodataframe.GeoDataFrame'>\n",
      "RangeIndex: 3088037 entries, 0 to 3088036\n",
      "Data columns (total 2 columns):\n",
      " #   Column      Dtype   \n",
      "---  ------      -----   \n",
      " 0   Population  int64   \n",
      " 1   geometry    geometry\n",
      "dtypes: geometry(1), int64(1)\n",
      "memory usage: 47.1 MB\n"
     ]
    }
   ],
   "source": [
    "gdf_population.info()"
   ]
  },
  {
   "cell_type": "code",
   "execution_count": 39,
   "metadata": {},
   "outputs": [
    {
     "data": {
      "text/html": [
       "<div>\n",
       "<style scoped>\n",
       "    .dataframe tbody tr th:only-of-type {\n",
       "        vertical-align: middle;\n",
       "    }\n",
       "\n",
       "    .dataframe tbody tr th {\n",
       "        vertical-align: top;\n",
       "    }\n",
       "\n",
       "    .dataframe thead th {\n",
       "        text-align: right;\n",
       "    }\n",
       "</style>\n",
       "<table border=\"1\" class=\"dataframe\">\n",
       "  <thead>\n",
       "    <tr style=\"text-align: right;\">\n",
       "      <th></th>\n",
       "      <th>Population</th>\n",
       "      <th>geometry</th>\n",
       "    </tr>\n",
       "  </thead>\n",
       "  <tbody>\n",
       "    <tr>\n",
       "      <th>0</th>\n",
       "      <td>4</td>\n",
       "      <td>POLYGON ((10.21146 47.31529, 10.21278 47.31529...</td>\n",
       "    </tr>\n",
       "    <tr>\n",
       "      <th>1</th>\n",
       "      <td>11</td>\n",
       "      <td>POLYGON ((10.26565 47.31517, 10.26697 47.31517...</td>\n",
       "    </tr>\n",
       "    <tr>\n",
       "      <th>2</th>\n",
       "      <td>4</td>\n",
       "      <td>POLYGON ((10.26705 47.33047, 10.26837 47.33046...</td>\n",
       "    </tr>\n",
       "    <tr>\n",
       "      <th>3</th>\n",
       "      <td>12</td>\n",
       "      <td>POLYGON ((10.26707 47.33407, 10.26839 47.33407...</td>\n",
       "    </tr>\n",
       "    <tr>\n",
       "      <th>4</th>\n",
       "      <td>3</td>\n",
       "      <td>POLYGON ((10.26707 47.33497, 10.26839 47.33497...</td>\n",
       "    </tr>\n",
       "  </tbody>\n",
       "</table>\n",
       "</div>"
      ],
      "text/plain": [
       "   Population                                           geometry\n",
       "0           4  POLYGON ((10.21146 47.31529, 10.21278 47.31529...\n",
       "1          11  POLYGON ((10.26565 47.31517, 10.26697 47.31517...\n",
       "2           4  POLYGON ((10.26705 47.33047, 10.26837 47.33046...\n",
       "3          12  POLYGON ((10.26707 47.33407, 10.26839 47.33407...\n",
       "4           3  POLYGON ((10.26707 47.33497, 10.26839 47.33497..."
      ]
     },
     "execution_count": 39,
     "metadata": {},
     "output_type": "execute_result"
    }
   ],
   "source": [
    "gdf_population.head()"
   ]
  },
  {
   "cell_type": "code",
   "execution_count": 41,
   "metadata": {},
   "outputs": [],
   "source": [
    "polygon_layer = SolidPolygonLayer.from_geopandas(gdf_population)"
   ]
  },
  {
   "cell_type": "code",
   "execution_count": 42,
   "metadata": {},
   "outputs": [],
   "source": [
    "m = Map(polygon_layer)"
   ]
  },
  {
   "cell_type": "code",
   "execution_count": 43,
   "metadata": {},
   "outputs": [
    {
     "data": {
      "application/vnd.jupyter.widget-view+json": {
       "model_id": "9744297644504bd799d8816922ddb962",
       "version_major": 2,
       "version_minor": 1
      },
      "text/plain": [
       "Map(layers=[SolidPolygonLayer(table=pyarrow.Table\n",
       "Population: uint16\n",
       "geometry: list<item: list<item: fixed_siz…"
      ]
     },
     "execution_count": 43,
     "metadata": {},
     "output_type": "execute_result"
    }
   ],
   "source": [
    "m"
   ]
  },
  {
   "cell_type": "code",
   "execution_count": 60,
   "metadata": {},
   "outputs": [],
   "source": [
    "polygon_layer.get_fill_color = [11, 127, 171]"
   ]
  },
  {
   "cell_type": "code",
   "execution_count": 97,
   "metadata": {},
   "outputs": [],
   "source": [
    "colormap = mpl.colormaps[\"YlOrRd\"]"
   ]
  },
  {
   "cell_type": "code",
   "execution_count": 98,
   "metadata": {},
   "outputs": [],
   "source": [
    "normalizer = mpl.colors.Normalize(0, gdf_population['Population'].max())"
   ]
  },
  {
   "cell_type": "code",
   "execution_count": 99,
   "metadata": {},
   "outputs": [],
   "source": [
    "colors = colormap(normalizer(gdf_population['Population']), bytes = True)"
   ]
  },
  {
   "cell_type": "code",
   "execution_count": 100,
   "metadata": {},
   "outputs": [],
   "source": [
    "polygon_layer.get_fill_color = colors"
   ]
  },
  {
   "cell_type": "code",
   "execution_count": 76,
   "metadata": {},
   "outputs": [
    {
     "data": {
      "text/plain": [
       "<Axes: xlabel='Population', ylabel='Count'>"
      ]
     },
     "execution_count": 76,
     "metadata": {},
     "output_type": "execute_result"
    },
    {
     "data": {
      "image/png": "[encoded data removed]",
      "text/plain": [
       "<Figure size 640x480 with 1 Axes>"
      ]
     },
     "metadata": {},
     "output_type": "display_data"
    }
   ],
   "source": [
    "sns.histplot(gdf_population['Population'], bins = 100)"
   ]
  },
  {
   "cell_type": "code",
   "execution_count": 77,
   "metadata": {},
   "outputs": [
    {
     "data": {
      "text/plain": [
       "np.float64(4.7072006305650085)"
      ]
     },
     "execution_count": 77,
     "metadata": {},
     "output_type": "execute_result"
    }
   ],
   "source": [
    "gdf_population['Population'].skew()"
   ]
  },
  {
   "cell_type": "code",
   "execution_count": 101,
   "metadata": {},
   "outputs": [],
   "source": [
    "normalizer = mpl.colors.LogNorm(gdf_population['Population'].min(), gdf_population['Population'].max())"
   ]
  },
  {
   "cell_type": "code",
   "execution_count": 102,
   "metadata": {},
   "outputs": [],
   "source": [
    "colors = colormap(normalizer(gdf_population['Population']), bytes = True)"
   ]
  },
  {
   "cell_type": "code",
   "execution_count": 103,
   "metadata": {},
   "outputs": [],
   "source": [
    "polygon_layer.get_fill_color = colors"
   ]
  },
  {
   "cell_type": "code",
   "execution_count": 105,
   "metadata": {},
   "outputs": [
    {
     "data": {
      "image/png": "[encoded data removed]",
      "text/plain": [
       "<Figure size 800x80 with 1 Axes>"
      ]
     },
     "metadata": {},
     "output_type": "display_data"
    }
   ],
   "source": [
    "def thousands_formatter(x, pos):\n",
    "    return f'{int(x):,}'\n",
    "\n",
    "def create_colorbar():\n",
    "    fig, ax = plt.subplots(figsize=(8, 0.8))\n",
    "    \n",
    "    # Define the colorbar with LogNorm and the specified colormap\n",
    "    cbar = plt.colorbar(\n",
    "        plt.cm.ScalarMappable(norm=LogNorm(vmin=gdf_population['Population'].min(), vmax=gdf_population['Population'].max()), cmap=colormap),\n",
    "        cax=ax,\n",
    "        orientation='horizontal'\n",
    "    )\n",
    "    \n",
    "    tick_values = np.logspace(np.log10(gdf_population['Population'].min()), np.log10(gdf_population['Population'].max()), num=5)\n",
    "    cbar.set_ticks(tick_values)\n",
    "    cbar.ax.xaxis.set_major_formatter(mticker.FuncFormatter(thousands_formatter))\n",
    "    cbar.ax.tick_params(labelsize=8)\n",
    "\n",
    "    cbar.set_label('Population per cell', fontsize=10)\n",
    "    \n",
    "    plt.tight_layout()\n",
    "    plt.show()\n",
    "\n",
    "create_colorbar()"
   ]
  },
  {
   "cell_type": "code",
   "execution_count": 106,
   "metadata": {},
   "outputs": [],
   "source": [
    "m.to_html(\"visualize_pop.html\")"
   ]
  },
  {
   "cell_type": "code",
   "execution_count": 107,
   "metadata": {},
   "outputs": [],
   "source": [
    "!open visualize_pop.html"
   ]
  },
  {
   "cell_type": "code",
   "execution_count": 108,
   "metadata": {},
   "outputs": [],
   "source": [
    "filter_extension = DataFilterExtension()"
   ]
  },
  {
   "cell_type": "code",
   "execution_count": 109,
   "metadata": {},
   "outputs": [],
   "source": [
    "polygon_layer = SolidPolygonLayer.from_geopandas(\n",
    "    gdf_population,\n",
    "    get_fill_color = colors,\n",
    "    extensions=[filter_extension],\n",
    "    get_filter_value=gdf_population['Population'], \n",
    "    filter_range=[3, 3549] \n",
    ")"
   ]
  },
  {
   "cell_type": "code",
   "execution_count": 115,
   "metadata": {},
   "outputs": [],
   "source": [
    "with widgets.Output():\n",
    "    # Create the slider\n",
    "    slider = widgets.IntRangeSlider(\n",
    "        value=(3, 25),\n",
    "        min=3,\n",
    "        max=3549,\n",
    "        step=1,\n",
    "        description=\"Slider: \",\n",
    "        layout=widgets.Layout(width='600px'), \n",
    "    )\n",
    "\n",
    "    # Link the slider to the polygon layer \n",
    "    widgets.jsdlink(\n",
    "        (slider, \"value\"),\n",
    "        (polygon_layer, \"filter_range\")\n",
    "    )"
   ]
  },
  {
   "cell_type": "code",
   "execution_count": 116,
   "metadata": {},
   "outputs": [
    {
     "data": {
      "application/vnd.jupyter.widget-view+json": {
       "model_id": "13314a0bf7854fb7b577e5a8d0fc06dc",
       "version_major": 2,
       "version_minor": 0
      },
      "text/plain": [
       "IntRangeSlider(value=(3, 25), description='Slider: ', layout=Layout(width='600px'), max=3549, min=3)"
      ]
     },
     "execution_count": 116,
     "metadata": {},
     "output_type": "execute_result"
    }
   ],
   "source": [
    "slider"
   ]
  },
  {
   "cell_type": "code",
   "execution_count": 117,
   "metadata": {},
   "outputs": [
    {
     "data": {
      "application/vnd.jupyter.widget-view+json": {
       "model_id": "e841ccbbb67a4d869f8aa262cec72173",
       "version_major": 2,
       "version_minor": 1
      },
      "text/plain": [
       "Map(layers=[SolidPolygonLayer(extensions=[DataFilterExtension()], filter_range=[3.0, 25.0], get_fill_color=<py…"
      ]
     },
     "execution_count": 117,
     "metadata": {},
     "output_type": "execute_result"
    }
   ],
   "source": [
    "m = Map(polygon_layer)\n",
    "m"
   ]
  },
  {
   "cell_type": "code",
   "execution_count": 118,
   "metadata": {},
   "outputs": [],
   "source": [
    "polygon_layer = SolidPolygonLayer.from_geopandas(\n",
    "    gdf_population,\n",
    "    get_fill_color= colors,\n",
    "    extruded = True\n",
    ")"
   ]
  },
  {
   "cell_type": "code",
   "execution_count": 119,
   "metadata": {},
   "outputs": [],
   "source": [
    "polygon_layer.get_elevation = 1500 * normalizer(gdf_population['Population'])"
   ]
  },
  {
   "cell_type": "code",
   "execution_count": 120,
   "metadata": {},
   "outputs": [
    {
     "data": {
      "application/vnd.jupyter.widget-view+json": {
       "model_id": "1b86e93b7d1b434fbe926edc6ed2c731",
       "version_major": 2,
       "version_minor": 1
      },
      "text/plain": [
       "Map(layers=[SolidPolygonLayer(extruded=True, get_elevation=<pyarrow.lib.FloatArray object at 0x44d630c40>\n",
       "[\n",
       "  …"
      ]
     },
     "execution_count": 120,
     "metadata": {},
     "output_type": "execute_result"
    }
   ],
   "source": [
    "m = Map(polygon_layer)\n",
    "m"
   ]
  },
  {
   "cell_type": "code",
   "execution_count": null,
   "metadata": {},
   "outputs": [],
   "source": []
  }
 ],
 "metadata": {
  "kernelspec": {
   "display_name": "Python 3 (ipykernel)",
   "language": "python",
   "name": "python3"
  },
  "language_info": {
   "codemirror_mode": {
    "name": "ipython",
    "version": 3
   },
   "file_extension": ".py",
   "mimetype": "text/x-python",
   "name": "python",
   "nbconvert_exporter": "python",
   "pygments_lexer": "ipython3",
   "version": "3.12.3"
  }
 },
 "nbformat": 4,
 "nbformat_minor": 4
}
