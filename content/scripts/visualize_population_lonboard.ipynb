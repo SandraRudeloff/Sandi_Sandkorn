{
 "cells": [
  {
   "cell_type": "markdown",
   "id": "51d818d9",
   "metadata": {},
   "source": [
    "# Visualize Germany's Population using lonboard\n",
    "In this notebook we’ll use the [`lonboard`](https://developmentseed.org/lonboard/) library to visualize Germany’s population data, which consists of approximately 3 million polygons. By the end, you'll know how to create interactive maps of large spatial datasets directly in Jupyter notebooks."
   ]
  },
  {
   "cell_type": "markdown",
   "id": "908f9777",
   "metadata": {},
   "source": [
    "## Imports\n",
    "`lonboard` is designed to work within Jupyter Notebooks. Please make sure you're working in a Jupyter environment to follow along.\n",
    "\n",
    "Before starting, make sure you have the following packages installed:\n",
    "- `lonboard` and its dependencies: `anywidget`, `geopandas`, `matplotlib`, `palettable`, `pandas` (which requires `numpy`), `pyarrow` and `shapely`.\n",
    "- `requests`: For fetching data.\n",
    "- `seaborn`: For statistical data visualization.\n",
    "\n",
    "The following modules come standard with Python, so no need for separate installation:\n",
    "- `zipfile`\n",
    "- `io`"
   ]
  },
  {
   "cell_type": "code",
   "execution_count": 1,
   "id": "0ffbe742-9fdd-4efe-9200-8efd8f78f168",
   "metadata": {
    "scrolled": true
   },
   "outputs": [],
   "source": [
    "import requests\n",
    "import zipfile\n",
    "import io\n",
    "\n",
    "from lonboard import Map, SolidPolygonLayer\n",
    "from lonboard.layer_extension import DataFilterExtension\n",
    "import ipywidgets as widgets\n",
    "\n",
    "import pandas as pd\n",
    "import numpy as np\n",
    "import geopandas as gpd\n",
    "\n",
    "import matplotlib as mpl\n",
    "import matplotlib.pyplot as plt\n",
    "from matplotlib.colors import LogNorm\n",
    "import matplotlib.ticker as mticker\n",
    "\n",
    "from shapely.geometry import Polygon\n",
    "\n",
    "import seaborn as sns"
   ]
  },
  {
   "cell_type": "markdown",
   "id": "398705b0",
   "metadata": {},
   "source": [
    "## Fetch Population Data\n",
    "The population data we’ll be using is stored in a `.csv` file inside a ZIP folder. It consists of 100m x 100m grid cells covering the area of Germany, with population counts for each cell. We'll download this file, extract the data, and load it into a `pandas` DataFrame."
   ]
  },
  {
   "cell_type": "code",
   "execution_count": 2,
   "id": "c2d4910d",
   "metadata": {},
   "outputs": [],
   "source": [
    "url = \"https://www.zensus2022.de/static/Zensus_Veroeffentlichung/Zensus2022_Bevoelkerungszahl.zip\"\n",
    "target_file = \"Zensus2022_Bevoelkerungszahl_100m-Gitter.csv\"\n",
    "\n",
    "response = requests.get(url)\n",
    "\n",
    "if response.status_code == 200:\n",
    "    with zipfile.ZipFile(io.BytesIO(response.content)) as zip_ref: # Open the ZIP file in memory\n",
    "        if target_file in zip_ref.namelist():\n",
    "            with zip_ref.open(target_file) as csv_file:\n",
    "                df_pop = pd.read_csv(csv_file, delimiter=';') \n",
    "        else:\n",
    "            print(f\"{target_file} not found in the ZIP archive.\")\n",
    "else:\n",
    "    print(f\"Failed to download file: {response.status_code}\")"
   ]
  },
  {
   "cell_type": "markdown",
   "id": "c0cc550b",
   "metadata": {},
   "source": [
    "Let’s take a quick look at the first few rows of the data to understand its structure:"
   ]
  },
  {
   "cell_type": "code",
   "execution_count": 3,
   "id": "fbf9ac13",
   "metadata": {},
   "outputs": [
    {
     "data": {
      "text/html": [
       "<div>\n",
       "<style scoped>\n",
       "    .dataframe tbody tr th:only-of-type {\n",
       "        vertical-align: middle;\n",
       "    }\n",
       "\n",
       "    .dataframe tbody tr th {\n",
       "        vertical-align: top;\n",
       "    }\n",
       "\n",
       "    .dataframe thead th {\n",
       "        text-align: right;\n",
       "    }\n",
       "</style>\n",
       "<table border=\"1\" class=\"dataframe\">\n",
       "  <thead>\n",
       "    <tr style=\"text-align: right;\">\n",
       "      <th></th>\n",
       "      <th>GITTER_ID_100m</th>\n",
       "      <th>x_mp_100m</th>\n",
       "      <th>y_mp_100m</th>\n",
       "      <th>Einwohner</th>\n",
       "    </tr>\n",
       "  </thead>\n",
       "  <tbody>\n",
       "    <tr>\n",
       "      <th>0</th>\n",
       "      <td>CRS3035RES100mN2689100E4337000</td>\n",
       "      <td>4337050</td>\n",
       "      <td>2689150</td>\n",
       "      <td>4</td>\n",
       "    </tr>\n",
       "    <tr>\n",
       "      <th>1</th>\n",
       "      <td>CRS3035RES100mN2689100E4341100</td>\n",
       "      <td>4341150</td>\n",
       "      <td>2689150</td>\n",
       "      <td>11</td>\n",
       "    </tr>\n",
       "    <tr>\n",
       "      <th>2</th>\n",
       "      <td>CRS3035RES100mN2690800E4341200</td>\n",
       "      <td>4341250</td>\n",
       "      <td>2690850</td>\n",
       "      <td>4</td>\n",
       "    </tr>\n",
       "    <tr>\n",
       "      <th>3</th>\n",
       "      <td>CRS3035RES100mN2691200E4341200</td>\n",
       "      <td>4341250</td>\n",
       "      <td>2691250</td>\n",
       "      <td>12</td>\n",
       "    </tr>\n",
       "    <tr>\n",
       "      <th>4</th>\n",
       "      <td>CRS3035RES100mN2691300E4341200</td>\n",
       "      <td>4341250</td>\n",
       "      <td>2691350</td>\n",
       "      <td>3</td>\n",
       "    </tr>\n",
       "  </tbody>\n",
       "</table>\n",
       "</div>"
      ],
      "text/plain": [
       "                   GITTER_ID_100m  x_mp_100m  y_mp_100m  Einwohner\n",
       "0  CRS3035RES100mN2689100E4337000    4337050    2689150          4\n",
       "1  CRS3035RES100mN2689100E4341100    4341150    2689150         11\n",
       "2  CRS3035RES100mN2690800E4341200    4341250    2690850          4\n",
       "3  CRS3035RES100mN2691200E4341200    4341250    2691250         12\n",
       "4  CRS3035RES100mN2691300E4341200    4341250    2691350          3"
      ]
     },
     "execution_count": 3,
     "metadata": {},
     "output_type": "execute_result"
    }
   ],
   "source": [
    "df_pop.head()"
   ]
  },
  {
   "cell_type": "markdown",
   "id": "6f9a7a5e",
   "metadata": {},
   "source": [
    "While we can't immediately tell the meaning of each column just from looking at the data, the [data description](https://www.zensus2022.de/static/Zensus_Veroeffentlichung/Datensatzbeschreibung_Bevoelkerungszahl_Gitterzellen.xlsx) clarifies the following:\n",
    "- `GITTER_ID_100m`: The unique identifier for each 100m x 100m grid cell.\n",
    "- `x_mp_100m`: The longitude of the cell's center using the [ETRS89-LAEA Europe (EPSG: 3035)](https://epsg.io/3035) coordinate reference system.\n",
    "- `y_mp_100m`: The latitude of the cell's center using the [ETRS89-LAEA Europe (EPSG: 3035)](https://epsg.io/3035) coordinate reference system.\n",
    "- `Einwohner`: The population count within each cell."
   ]
  },
  {
   "cell_type": "markdown",
   "id": "965e7e9f",
   "metadata": {},
   "source": [
    "## Prepare Data"
   ]
  },
  {
   "cell_type": "code",
   "execution_count": 4,
   "id": "5fa1dbdc-d61e-4daa-91af-8d440c9301da",
   "metadata": {},
   "outputs": [],
   "source": [
    "df_pop.rename(columns={'Einwohner': 'Population'}, inplace=True)\n",
    "df_pop['Population'] = pd.to_numeric(df_pop['Population'], errors='coerce') # coerce: any value that cannot be converted to a numeric type will be replaced with NaN"
   ]
  },
  {
   "cell_type": "markdown",
   "id": "6733c003",
   "metadata": {},
   "source": [
    "To visualize the data on a map, we need to transform the coordinates into polygons representing each grid cell. The dataset uses the ETRS89-LAEA Europe coordinate reference system, which measures distances in meters and is well-suited for European datasets.\n",
    "\n",
    "Since each grid cell is 100m x 100m, and the coordinates provided represent the center of each cell, we can use this information—combined with the fact that the CRS measures in meters—to create accurate polygons. When creating the `geopandas` GeoDataFrame, we’ll ensure that the correct CRS (ETRS89-LAEA) is set. However, for visualization in `lonboard`, we need to convert the coordinates to the more commonly used [WGS84 (EPSG:4326)](https://epsg.io/4326) CRS, which is based on latitude and longitude.\n",
    "\n",
    "The following code will generate `geopandas Polygons` for each cell and convert the CRS for visualization:"
   ]
  },
  {
   "cell_type": "code",
   "execution_count": 5,
   "id": "ebaad8e0",
   "metadata": {},
   "outputs": [],
   "source": [
    "def create_polygon(x, y, half_length=50):\n",
    "    return Polygon([\n",
    "        (x - half_length, y - half_length),\n",
    "        (x + half_length, y - half_length),\n",
    "        (x + half_length, y + half_length),\n",
    "        (x - half_length, y + half_length)\n",
    "    ])\n",
    "    \n",
    "gdf_population = gpd.GeoDataFrame(df_pop['Population'], geometry=df_pop.apply(lambda row: create_polygon(row['x_mp_100m'], row['y_mp_100m']), axis=1), crs = 'EPSG:3035')\n",
    "\n",
    "# Convert the coordinate system to WGS84 (EPSG:4326)\n",
    "gdf_population = gdf_population.to_crs(epsg=4326)"
   ]
  },
  {
   "cell_type": "code",
   "execution_count": 6,
   "id": "e65dbf35",
   "metadata": {},
   "outputs": [
    {
     "name": "stdout",
     "output_type": "stream",
     "text": [
      "<class 'geopandas.geodataframe.GeoDataFrame'>\n",
      "RangeIndex: 3088037 entries, 0 to 3088036\n",
      "Data columns (total 2 columns):\n",
      " #   Column      Dtype   \n",
      "---  ------      -----   \n",
      " 0   Population  int64   \n",
      " 1   geometry    geometry\n",
      "dtypes: geometry(1), int64(1)\n",
      "memory usage: 47.1 MB\n"
     ]
    }
   ],
   "source": [
    "gdf_population.info()"
   ]
  },
  {
   "cell_type": "code",
   "execution_count": 7,
   "id": "88ca0ac0",
   "metadata": {},
   "outputs": [
    {
     "data": {
      "text/html": [
       "<div>\n",
       "<style scoped>\n",
       "    .dataframe tbody tr th:only-of-type {\n",
       "        vertical-align: middle;\n",
       "    }\n",
       "\n",
       "    .dataframe tbody tr th {\n",
       "        vertical-align: top;\n",
       "    }\n",
       "\n",
       "    .dataframe thead th {\n",
       "        text-align: right;\n",
       "    }\n",
       "</style>\n",
       "<table border=\"1\" class=\"dataframe\">\n",
       "  <thead>\n",
       "    <tr style=\"text-align: right;\">\n",
       "      <th></th>\n",
       "      <th>Population</th>\n",
       "      <th>geometry</th>\n",
       "    </tr>\n",
       "  </thead>\n",
       "  <tbody>\n",
       "    <tr>\n",
       "      <th>0</th>\n",
       "      <td>4</td>\n",
       "      <td>POLYGON ((10.21146 47.31529, 10.21278 47.31529...</td>\n",
       "    </tr>\n",
       "    <tr>\n",
       "      <th>1</th>\n",
       "      <td>11</td>\n",
       "      <td>POLYGON ((10.26565 47.31517, 10.26697 47.31517...</td>\n",
       "    </tr>\n",
       "    <tr>\n",
       "      <th>2</th>\n",
       "      <td>4</td>\n",
       "      <td>POLYGON ((10.26705 47.33047, 10.26837 47.33046...</td>\n",
       "    </tr>\n",
       "    <tr>\n",
       "      <th>3</th>\n",
       "      <td>12</td>\n",
       "      <td>POLYGON ((10.26707 47.33407, 10.26839 47.33407...</td>\n",
       "    </tr>\n",
       "    <tr>\n",
       "      <th>4</th>\n",
       "      <td>3</td>\n",
       "      <td>POLYGON ((10.26707 47.33497, 10.26839 47.33497...</td>\n",
       "    </tr>\n",
       "    <tr>\n",
       "      <th>...</th>\n",
       "      <td>...</td>\n",
       "      <td>...</td>\n",
       "    </tr>\n",
       "    <tr>\n",
       "      <th>3088032</th>\n",
       "      <td>14</td>\n",
       "      <td>POLYGON ((8.42288 55.02299, 8.42445 55.02301, ...</td>\n",
       "    </tr>\n",
       "    <tr>\n",
       "      <th>3088033</th>\n",
       "      <td>4</td>\n",
       "      <td>POLYGON ((8.41816 55.02383, 8.41972 55.02385, ...</td>\n",
       "    </tr>\n",
       "    <tr>\n",
       "      <th>3088034</th>\n",
       "      <td>10</td>\n",
       "      <td>POLYGON ((8.41972 55.02385, 8.42129 55.02387, ...</td>\n",
       "    </tr>\n",
       "    <tr>\n",
       "      <th>3088035</th>\n",
       "      <td>3</td>\n",
       "      <td>POLYGON ((8.42129 55.02387, 8.42285 55.02389, ...</td>\n",
       "    </tr>\n",
       "    <tr>\n",
       "      <th>3088036</th>\n",
       "      <td>3</td>\n",
       "      <td>POLYGON ((8.42285 55.02389, 8.42441 55.02391, ...</td>\n",
       "    </tr>\n",
       "  </tbody>\n",
       "</table>\n",
       "<p>3088037 rows × 2 columns</p>\n",
       "</div>"
      ],
      "text/plain": [
       "         Population                                           geometry\n",
       "0                 4  POLYGON ((10.21146 47.31529, 10.21278 47.31529...\n",
       "1                11  POLYGON ((10.26565 47.31517, 10.26697 47.31517...\n",
       "2                 4  POLYGON ((10.26705 47.33047, 10.26837 47.33046...\n",
       "3                12  POLYGON ((10.26707 47.33407, 10.26839 47.33407...\n",
       "4                 3  POLYGON ((10.26707 47.33497, 10.26839 47.33497...\n",
       "...             ...                                                ...\n",
       "3088032          14  POLYGON ((8.42288 55.02299, 8.42445 55.02301, ...\n",
       "3088033           4  POLYGON ((8.41816 55.02383, 8.41972 55.02385, ...\n",
       "3088034          10  POLYGON ((8.41972 55.02385, 8.42129 55.02387, ...\n",
       "3088035           3  POLYGON ((8.42129 55.02387, 8.42285 55.02389, ...\n",
       "3088036           3  POLYGON ((8.42285 55.02389, 8.42441 55.02391, ...\n",
       "\n",
       "[3088037 rows x 2 columns]"
      ]
     },
     "execution_count": 7,
     "metadata": {},
     "output_type": "execute_result"
    }
   ],
   "source": [
    "gdf_population"
   ]
  },
  {
   "cell_type": "markdown",
   "id": "bd793f05",
   "metadata": {},
   "source": [
    "## Visualize Data Using `lonboard`\n",
    "\n",
    "To visualize the population data, we use the [`SolidPolygonLayer`](https://developmentseed.org/lonboard/latest/api/layers/solid-polygon-layer/). This layer is preferred over [`PolygonLayer`](https://developmentseed.org/lonboard/latest/api/layers/polygon-layer/) because it does not render polygon outlines, making it more performant for large datasets.\n",
    "\n",
    "We’ll create the `SolidPolygonLayer` from the `GeoDataFrame` we generated earlier and then add it to a `Map` for visualization:"
   ]
  },
  {
   "cell_type": "code",
   "execution_count": 8,
   "id": "968c5a6d-5def-4815-9a65-6e27105d7300",
   "metadata": {},
   "outputs": [],
   "source": [
    "polygon_layer = SolidPolygonLayer.from_geopandas(\n",
    "    gdf_population,\n",
    ")\n",
    "\n",
    "m = Map(polygon_layer) "
   ]
  },
  {
   "cell_type": "code",
   "execution_count": 9,
   "id": "70f35514-30b1-46bc-9f40-c88c06a1ea31",
   "metadata": {},
   "outputs": [
    {
     "data": {
      "application/vnd.jupyter.widget-view+json": {
       "model_id": "d0d1472a509e42ebbccfc619816ae865",
       "version_major": 2,
       "version_minor": 1
      },
      "text/plain": [
       "Map(layers=[SolidPolygonLayer(table=pyarrow.Table\n",
       "Population: uint16\n",
       "geometry: list<item: list<item: fixed_siz…"
      ]
     },
     "execution_count": 9,
     "metadata": {},
     "output_type": "execute_result"
    }
   ],
   "source": [
    "m"
   ]
  },
  {
   "cell_type": "markdown",
   "id": "b34a47b2",
   "metadata": {},
   "source": [
    "### Set a Colormap\n",
    "We can explore the documentation for [`SolidPolygonLayer`](https://developmentseed.org/lonboard/latest/api/layers/solid-polygon-layer/) to learn about the various rendering options it offers. Instead of using the default black fill color, let’s customize the appearance by setting a new one. Since `get_fill_color` is a mutable property, we can easily update the color dynamically after creating the layer, without needing to recreate it."
   ]
  },
  {
   "cell_type": "code",
   "execution_count": 10,
   "id": "784ecdf5-3589-4247-81fd-d27bca8df0c6",
   "metadata": {},
   "outputs": [],
   "source": [
    "polygon_layer.get_fill_color = [11, 127, 171]"
   ]
  },
  {
   "cell_type": "markdown",
   "id": "975dc61f",
   "metadata": {},
   "source": [
    "Blue is pretty, but let’s make our map more insightful by coloring each area based on its population. Using a [colormap](https://matplotlib.org/stable/users/explain/colors/colormaps.html) from `matplotlib`, we’ll scale the population values between 0 and 1. This will allow us to easily compare different population densities at a glance."
   ]
  },
  {
   "cell_type": "code",
   "execution_count": 11,
   "id": "d8b2a500-4cbe-4e52-9a43-19e350e8bc49",
   "metadata": {},
   "outputs": [],
   "source": [
    "colormap = mpl.colormaps[\"YlOrRd\"]\n",
    "normalizer = mpl.colors.Normalize(0, vmax=gdf_population['Population'].max()) #Normalize population to the 0-1 range\n",
    "colors = colormap(normalizer(gdf_population['Population']), bytes=True)"
   ]
  },
  {
   "cell_type": "code",
   "execution_count": 12,
   "id": "8d49efe7-0cd6-412b-904a-fdc9e7984ca5",
   "metadata": {},
   "outputs": [],
   "source": [
    "polygon_layer.get_fill_color = colors"
   ]
  },
  {
   "cell_type": "markdown",
   "id": "a53bc724",
   "metadata": {},
   "source": [
    "The new colorscheme already makes the map more insightful. However, it looks like the red colors aren’t showing up much, which might suggest that our data is skewed. Let’s check"
   ]
  },
  {
   "cell_type": "code",
   "execution_count": 13,
   "id": "8e232dac-3337-4539-be8e-2364dcc148c2",
   "metadata": {},
   "outputs": [
    {
     "data": {
      "image/png": "[encoded data removed]",
      "text/plain": [
       "<Figure size 640x480 with 1 Axes>"
      ]
     },
     "metadata": {},
     "output_type": "display_data"
    },
    {
     "name": "stdout",
     "output_type": "stream",
     "text": [
      "Skewness value: 4.7072006305650085\n"
     ]
    }
   ],
   "source": [
    "def thousands_formatter(x, pos):\n",
    "    return f'{int(x):,}'\n",
    "    \n",
    "sns.histplot(gdf_population['Population'], bins=100)\n",
    "\n",
    "plt.gca().yaxis.set_major_formatter(mticker.FuncFormatter(thousands_formatter))\n",
    "plt.show()\n",
    "\n",
    "print(\"Skewness value:\",gdf_population['Population'].skew())"
   ]
  },
  {
   "cell_type": "markdown",
   "id": "c26c4cbd",
   "metadata": {},
   "source": [
    "The histogram and skewness reveal a strong positive skew — most cells have low populations, while only a few cells have very high numbers. This is why our linear colormap isn’t showing much color variation. To make these differences stand out, let’s switch to a logarithmic colormap, which will better highlight the variations in population density."
   ]
  },
  {
   "cell_type": "code",
   "execution_count": 14,
   "id": "60aa3f6e-d13a-4f44-9cf9-fa94dcfa1cd0",
   "metadata": {},
   "outputs": [],
   "source": [
    "normalizer = mpl.colors.LogNorm(vmin=gdf_population['Population'].min(), vmax=gdf_population['Population'].max()) # Normalize population to the 0-1 range on a log scale.\n",
    "colors = colormap(normalizer(gdf_population['Population']), bytes=True)"
   ]
  },
  {
   "cell_type": "code",
   "execution_count": 15,
   "id": "dc4ef1d9-cdda-4ff7-8b64-293f19809711",
   "metadata": {},
   "outputs": [],
   "source": [
    "polygon_layer.get_fill_color = colors"
   ]
  },
  {
   "cell_type": "markdown",
   "id": "e7fb63e9",
   "metadata": {},
   "source": [
    "### Add a Legend\n",
    "To make our map even clearer, let’s add a colorbar that shows how population densities correspond to colors. This will help users easily interpret the map. \n",
    "Here’s how we can set it up:"
   ]
  },
  {
   "cell_type": "code",
   "execution_count": 16,
   "id": "e733d133-b2fa-4eed-8f46-b1deb428042d",
   "metadata": {},
   "outputs": [
    {
     "data": {
      "image/png": "[encoded data removed]",
      "text/plain": [
       "<Figure size 800x80 with 1 Axes>"
      ]
     },
     "metadata": {},
     "output_type": "display_data"
    }
   ],
   "source": [
    "def create_colorbar():\n",
    "    fig, ax = plt.subplots(figsize=(8, 0.8))\n",
    "    \n",
    "    # Define the colorbar with LogNorm and the specified colormap\n",
    "    cbar = plt.colorbar(\n",
    "        plt.cm.ScalarMappable(norm=LogNorm(vmin=gdf_population['Population'].min(), vmax=gdf_population['Population'].max()), cmap=colormap),\n",
    "        cax=ax,\n",
    "        orientation='horizontal'\n",
    "    )\n",
    "    \n",
    "    tick_values = np.logspace(np.log10(gdf_population['Population'].min()), np.log10(gdf_population['Population'].max()), num=5)\n",
    "    cbar.set_ticks(tick_values)\n",
    "    cbar.ax.xaxis.set_major_formatter(mticker.FuncFormatter(thousands_formatter))\n",
    "    cbar.ax.tick_params(labelsize=8)\n",
    "\n",
    "    cbar.set_label('Population per cell', fontsize=10)\n",
    "    \n",
    "    plt.tight_layout()\n",
    "    plt.show()\n",
    "\n",
    "create_colorbar()"
   ]
  },
  {
   "cell_type": "markdown",
   "id": "d340a64b-03b7-4a83-8e5f-0c7720b7fd6b",
   "metadata": {},
   "source": [
    "By using Jupyter widgets, we can capture the colorbar and then combine it with the map for a more comprehensive view."
   ]
  },
  {
   "cell_type": "code",
   "execution_count": 18,
   "id": "8902ac20-b993-4054-9aba-c64acbef72e8",
   "metadata": {},
   "outputs": [
    {
     "data": {
      "application/vnd.jupyter.widget-view+json": {
       "model_id": "cd77cfdd2dc14859b508d4326a1bddc6",
       "version_major": 2,
       "version_minor": 0
      },
      "text/plain": [
       "VBox(children=(Map(layers=[SolidPolygonLayer(get_fill_color=<pyarrow.lib.FixedSizeListArray object at 0x372733…"
      ]
     },
     "execution_count": 18,
     "metadata": {},
     "output_type": "execute_result"
    }
   ],
   "source": [
    "# Display the map and the colorbar together\n",
    "\n",
    "# Create output widget for the colorbar\n",
    "colorbar_output = widgets.Output()\n",
    "\n",
    "with colorbar_output:\n",
    "    create_colorbar()\n",
    "    \n",
    "widgets.VBox([m, colorbar_output])"
   ]
  },
  {
   "cell_type": "markdown",
   "id": "0cfea212-0a1f-4eab-984a-c859fcc7dd02",
   "metadata": {},
   "source": [
    "### Share a Map\n",
    "To share your interactive map, you can save it as an HTML file. This allows others to view and interact with the map in a web browser without needing any specialized software. \n",
    "Here’s a simple way to save your map as an HTML file:"
   ]
  },
  {
   "cell_type": "code",
   "execution_count": 19,
   "id": "17f8815f-c026-4182-8dfb-6bb84789b3e5",
   "metadata": {},
   "outputs": [],
   "source": [
    "m.to_html(\"visualization_population.html\")"
   ]
  },
  {
   "cell_type": "code",
   "execution_count": 20,
   "id": "b279f604-8dae-42dd-a63e-0b18cea8a700",
   "metadata": {},
   "outputs": [],
   "source": [
    "!open visualization_population.html"
   ]
  },
  {
   "cell_type": "markdown",
   "id": "91d827b1-cc51-4193-8f47-32c1ada6702d",
   "metadata": {},
   "source": [
    "Be aware that saving to HTML embeds the entire dataset into the file, which can result in a large file size. This might not be the most efficient way to share large datasets.\n",
    "\n",
    "An alternative solution is to use [`Shiny`](https://developmentseed.org/lonboard/latest/ecosystem/shiny/), which integrates with Jupyter Widgets and supports `lonboard`. Shiny allows you to host the map and data separately, providing a more efficient way to share interactive maps for larger datasets."
   ]
  },
  {
   "cell_type": "markdown",
   "id": "7d4883ed",
   "metadata": {},
   "source": [
    "## Additional Customization\n",
    "### Interactive Filtering\n",
    "To make our map even more interactive, we can add filters that allow us to explore the data based on specific criteria. By incorporating widgets like sliders, we can dynamically adjust which data is displayed. For example, we can use a slider to filter and display only areas with populations within a certain range, offering a more focused view of the data.\n",
    "\n",
    "Unlike the fill color, which is a mutable property that can be changed dynamically, applying filters requires the [`DataFilterExtension`](https://developmentseed.org/lonboard/latest/api/layer-extensions/data-filter-extension/) . Extensions modify the core behavior of the layer and must be set at the time of creation. Therefore, to enable filtering, we need to create a new `SolidPolygonLayer` with the `DataFilterExtension` included. Additionally, we define a `filter_range` that specifies the range of values to be filtered. \n",
    "\n",
    "`lonboard` leverages GPU-based filtering for efficient real-time interactivity, allowing smooth performance even with large datasets."
   ]
  },
  {
   "cell_type": "code",
   "execution_count": 19,
   "id": "c48e65c1-53b0-45ab-8fca-44498fa186de",
   "metadata": {},
   "outputs": [],
   "source": [
    "filter_extension = DataFilterExtension()"
   ]
  },
  {
   "cell_type": "code",
   "execution_count": 20,
   "id": "cbbb71fc-f8fd-4576-8942-3212f0e70a6a",
   "metadata": {},
   "outputs": [],
   "source": [
    "polygon_layer = SolidPolygonLayer.from_geopandas(\n",
    "    gdf_population,\n",
    "    get_fill_color = colors,\n",
    "    extensions=[filter_extension],\n",
    "    get_filter_value=gdf_population['Population'], \n",
    "    filter_range=[3, 3549] \n",
    ")"
   ]
  },
  {
   "cell_type": "code",
   "execution_count": 21,
   "id": "ee405cbc-e452-4ec6-a579-0e6218d91136",
   "metadata": {
    "scrolled": true
   },
   "outputs": [],
   "source": [
    "with widgets.Output():\n",
    "    # Create the slider\n",
    "    slider = widgets.IntRangeSlider(\n",
    "        value=(3, 25),\n",
    "        min=3,\n",
    "        max=3549,\n",
    "        step=1,\n",
    "        description=\"Slider: \",\n",
    "        layout=widgets.Layout(width='600px'), \n",
    "    )\n",
    "\n",
    "    # Link the slider to the polygon layer \n",
    "    widgets.jsdlink(\n",
    "        (slider, \"value\"),\n",
    "        (polygon_layer, \"filter_range\")\n",
    "    )"
   ]
  },
  {
   "cell_type": "code",
   "execution_count": 22,
   "id": "45d75174-25ac-46ca-90e9-0189a432ef59",
   "metadata": {},
   "outputs": [
    {
     "data": {
      "application/vnd.jupyter.widget-view+json": {
       "model_id": "295edff529c9472ba56a47514580bd93",
       "version_major": 2,
       "version_minor": 0
      },
      "text/plain": [
       "IntRangeSlider(value=(3, 25), description='Slider: ', layout=Layout(width='600px'), max=3549, min=3)"
      ]
     },
     "execution_count": 22,
     "metadata": {},
     "output_type": "execute_result"
    }
   ],
   "source": [
    "slider"
   ]
  },
  {
   "cell_type": "code",
   "execution_count": 23,
   "id": "ada52da0-6f77-443a-b289-a111918c17a2",
   "metadata": {},
   "outputs": [
    {
     "data": {
      "application/vnd.jupyter.widget-view+json": {
       "model_id": "8834dd5a936e4d1791ec373d1978f78b",
       "version_major": 2,
       "version_minor": 1
      },
      "text/plain": [
       "Map(layers=[SolidPolygonLayer(extensions=[DataFilterExtension()], filter_range=[3.0, 25.0], get_fill_color=<py…"
      ]
     },
     "execution_count": 23,
     "metadata": {},
     "output_type": "execute_result"
    }
   ],
   "source": [
    "m = Map(polygon_layer)\n",
    "m"
   ]
  },
  {
   "cell_type": "markdown",
   "id": "145c1e48",
   "metadata": {},
   "source": [
    "### 3D Maps\n",
    "To add a 3D perspective to our map, we can give the polygons height based on the population data. By setting the `extruded` parameter to `True`, we can add elevation to the polygons, making areas with higher populations rise above the map. While this feature may not be the most appropriate for this dataset, it demonstrates how 3D visualization can be useful for other types of data, such as building heights or terrain.\n",
    "\n",
    "Just like the `extensions` property, `extruded` alters the core behavior of the layer. Therefore, we need to create a new `SolidPolygonLayer` with the `extruded` property set during its creation.\n",
    "\n",
    "Here’s how it works:"
   ]
  },
  {
   "cell_type": "code",
   "execution_count": 24,
   "id": "d552b1d1-622f-4725-b00c-27ee7f1704d0",
   "metadata": {},
   "outputs": [],
   "source": [
    "polygon_layer = SolidPolygonLayer.from_geopandas(\n",
    "    gdf_population,\n",
    "    get_fill_color= colors,\n",
    "    extruded = True\n",
    ")"
   ]
  },
  {
   "cell_type": "code",
   "execution_count": 25,
   "id": "b4893f78-ae9f-496d-9223-2c30ecf5f764",
   "metadata": {},
   "outputs": [],
   "source": [
    "polygon_layer.get_elevation = 1500 * normalizer(gdf_population['Population'])"
   ]
  },
  {
   "cell_type": "code",
   "execution_count": 26,
   "id": "afa353be-79dc-469d-9ba6-b3983621c32c",
   "metadata": {},
   "outputs": [
    {
     "data": {
      "application/vnd.jupyter.widget-view+json": {
       "model_id": "a4cf80000490475c9ce3a9687e3c18bc",
       "version_major": 2,
       "version_minor": 1
      },
      "text/plain": [
       "Map(layers=[SolidPolygonLayer(extruded=True, get_elevation=<pyarrow.lib.FloatArray object at 0x334a29c00>\n",
       "[\n",
       "  …"
      ]
     },
     "execution_count": 26,
     "metadata": {},
     "output_type": "execute_result"
    }
   ],
   "source": [
    "m = Map(polygon_layer)\n",
    "m"
   ]
  }
 ],
 "metadata": {
  "kernelspec": {
   "display_name": "lonboard_vis",
   "language": "python",
   "name": "python3"
  },
  "language_info": {
   "codemirror_mode": {
    "name": "ipython",
    "version": 3
   },
   "file_extension": ".py",
   "mimetype": "text/x-python",
   "name": "python",
   "nbconvert_exporter": "python",
   "pygments_lexer": "ipython3",
   "version": "3.12.3"
  }
 },
 "nbformat": 4,
 "nbformat_minor": 5
}
