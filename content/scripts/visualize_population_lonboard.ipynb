{
 "cells": [
  {
   "cell_type": "markdown",
   "id": "0fa194dc-339e-43df-bc75-e9389f1a628d",
   "metadata": {},
   "source": [
    "# Visualize Population using lonboard\n",
    "In order to use longboard the `jupyter notebook` command needs to be used. "
   ]
  },
  {
   "cell_type": "code",
   "execution_count": 1,
   "id": "0ffbe742-9fdd-4efe-9200-8efd8f78f168",
   "metadata": {
    "scrolled": true
   },
   "outputs": [],
   "source": [
    "import pandas as pd\n",
    "from lonboard import Map, SolidPolygonLayer, basemap, viz, ScatterplotLayer\n",
    "import matplotlib as mpl\n",
    "\n",
    "import matplotlib.pyplot as plt\n",
    "from matplotlib.colors import LogNorm\n",
    "import matplotlib.ticker as mticker\n",
    "import geopandas as gpd\n",
    "from shapely.geometry import Point\n",
    "import ipywidgets as widgets\n",
    "import io"
   ]
  },
  {
   "cell_type": "code",
   "execution_count": null,
   "id": "0f0c0859",
   "metadata": {},
   "outputs": [],
   "source": [
    "input_csv_path = 'Diffusion_2024_data/Data/raw data/Zensus2022_Bevoelkerungszahl/Zensus2022_Bevoelkerungszahl_100m-Gitter.csv'\n",
    "df_census = pd.read_csv(input_csv_path, delimiter=';')"
   ]
  },
  {
   "cell_type": "code",
   "execution_count": null,
   "id": "7d90c6f5",
   "metadata": {},
   "outputs": [],
   "source": [
    "df_census['Einwohner'] = pd.to_numeric(df_census['Einwohner'], errors='coerce') # coerce: any value that cannot be converted to a numeric type will be replaced with NaN"
   ]
  },
  {
   "cell_type": "code",
   "execution_count": null,
   "id": "ebaad8e0",
   "metadata": {},
   "outputs": [],
   "source": [
    "def create_polygon(x, y, size=100):\n",
    "    half_size = size / 2\n",
    "    return Polygon([\n",
    "        (x - half_size, y - half_size),\n",
    "        (x + half_size, y - half_size),\n",
    "        (x + half_size, y + half_size),\n",
    "        (x - half_size, y + half_size)\n",
    "    ])"
   ]
  },
  {
   "cell_type": "code",
   "execution_count": null,
   "id": "5b94bf16",
   "metadata": {},
   "outputs": [],
   "source": [
    "gdf_population = gpd.GeoDataFrame(df_census, geometry=df_census.apply(lambda row: create_polygon(row['x_mp_100m'], row['y_mp_100m']), axis=1))"
   ]
  },
  {
   "cell_type": "code",
   "execution_count": 24,
   "id": "b3eee8c1-3b54-4d89-8de2-719aa70508e7",
   "metadata": {
    "scrolled": true
   },
   "outputs": [],
   "source": [
    "# Convert the coordinate system to WGS84 (EPSG:4326) for folium\n",
    "gdf_pop = gdf_pop.set_crs(epsg=3035)\n",
    "gdf_pop = gdf_pop.to_crs(epsg=4326)"
   ]
  },
  {
   "cell_type": "code",
   "execution_count": 7,
   "id": "63224a9e-3aa4-4e1e-93ac-b1a0395c84e4",
   "metadata": {},
   "outputs": [
    {
     "data": {
      "text/plain": [
       "<Geographic 2D CRS: EPSG:4326>\n",
       "Name: WGS 84\n",
       "Axis Info [ellipsoidal]:\n",
       "- Lat[north]: Geodetic latitude (degree)\n",
       "- Lon[east]: Geodetic longitude (degree)\n",
       "Area of Use:\n",
       "- name: World.\n",
       "- bounds: (-180.0, -90.0, 180.0, 90.0)\n",
       "Datum: World Geodetic System 1984 ensemble\n",
       "- Ellipsoid: WGS 84\n",
       "- Prime Meridian: Greenwich"
      ]
     },
     "execution_count": 7,
     "metadata": {},
     "output_type": "execute_result"
    }
   ],
   "source": [
    "gdf_population.crs"
   ]
  },
  {
   "cell_type": "code",
   "execution_count": 8,
   "id": "d6eba3c7-27d2-4a5b-9ac2-d67512cec662",
   "metadata": {},
   "outputs": [
    {
     "name": "stdout",
     "output_type": "stream",
     "text": [
      "Size of GeoDataFrame: 342772271 bytes\n",
      "Size of GeoDataFrame: 326.89 MB\n"
     ]
    }
   ],
   "source": [
    "import geopandas as gpd\n",
    "import sys\n",
    "\n",
    "# Assuming 'gdf' is your GeoDataFrame\n",
    "size_in_bytes = sys.getsizeof(gdf_population)\n",
    "\n",
    "# Convert bytes to megabytes\n",
    "size_in_mb = size_in_bytes / (1024 ** 2)  # 1 MB = 1024^2 bytes\n",
    "\n",
    "# Print the results\n",
    "print(f\"Size of GeoDataFrame: {size_in_bytes} bytes\")\n",
    "print(f\"Size of GeoDataFrame: {size_in_mb:.2f} MB\")\n"
   ]
  },
  {
   "cell_type": "markdown",
   "id": "abfc24f7-669c-4195-b361-20c6f1213c5a",
   "metadata": {},
   "source": [
    "For the colomap I oriented myself at\n",
    "https://developmentseed.org/lonboard/latest/examples/map_challenge/1-points/#access-the-data\n"
   ]
  },
  {
   "cell_type": "code",
   "execution_count": 15,
   "id": "d8b2a500-4cbe-4e52-9a43-19e350e8bc49",
   "metadata": {},
   "outputs": [],
   "source": [
    "colormap = mpl.colormaps[\"YlOrRd\"]\n",
    "\n",
    "normalizer = mpl.colors.LogNorm(vmin=gdf_population['Einwohner'].min(), vmax=gdf_population['Einwohner'].max()) #Normalize a given value to the 0-1 range on a log scale.\n",
    "#normalizer = mpl.colors.Normalize(0, vmax=df_pop['Einwohner'].max()) \n",
    "normalized_einwohner = normalizer(gdf_population['Einwohner'])\n",
    "\n",
    "colors = colormap(normalized_einwohner, bytes=True)"
   ]
  },
  {
   "cell_type": "code",
   "execution_count": 40,
   "id": "523febd1-3e3b-497a-a460-a44ebc3a6a71",
   "metadata": {},
   "outputs": [],
   "source": [
    "polygon_layer = SolidPolygonLayer.from_geopandas(\n",
    "    gdf_population,\n",
    "    get_fill_color=colors,\n",
    "    extruded = True, \n",
    "    extensions=[filter_extension],\n",
    "    get_filter_value=filter_values,\n",
    "    filter_range=initial_filter_range\n",
    ")\n",
    "\n",
    "m = Map([ polygon_layer], basemap_style = basemap.CartoBasemap.Positron)"
   ]
  },
  {
   "cell_type": "code",
   "execution_count": 41,
   "id": "63d5dcfd-053b-4a6c-94bb-04c1cc14ab1b",
   "metadata": {},
   "outputs": [],
   "source": [
    "m.to_html(\"test.html\")"
   ]
  },
  {
   "cell_type": "code",
   "execution_count": 43,
   "id": "d86903c8-734a-4907-bcf9-b5213a6f1d85",
   "metadata": {},
   "outputs": [],
   "source": [
    "!open test.html"
   ]
  },
  {
   "cell_type": "code",
   "execution_count": 26,
   "id": "bb07a8d7-2d9f-4a06-9325-b093b4043634",
   "metadata": {},
   "outputs": [
    {
     "data": {
      "image/png": "[encoded data removed]",
      "text/html": [
       "<div style=\"vertical-align: middle;\"><strong>BrBG</strong> </div><div class=\"cmap\"><img alt=\"BrBG colormap\" title=\"BrBG\" style=\"border: 1px solid #555;\" src=\"data:image/png;base64,iVBORw0KGgoAAAANSUhEUgAAAgAAAABACAYAAABsv8+/AAAAE3RFWHRUaXRsZQBCckJHIGNvbG9ybWFwMTXIUAAAABl0RVh0RGVzY3JpcHRpb24AQnJCRyBjb2xvcm1hcLqHWMgAAAAwdEVYdEF1dGhvcgBNYXRwbG90bGliIHYzLjkuMiwgaHR0cHM6Ly9tYXRwbG90bGliLm9yZ2GZxVMAAAAydEVYdFNvZnR3YXJlAE1hdHBsb3RsaWIgdjMuOS4yLCBodHRwczovL21hdHBsb3RsaWIub3JnTz9adAAAAilJREFUeJzt1k1u2zAURlGSQffTxXT/O7GYgSUHejahBPGgwHfOROWPKCYBitv//f0zW2ut99Zaa21cPu//GOPd+/t5/O7949h/39iP8WP+GI/TfO9l3yj79vXn88bL9/riO/Ueva4v7tHLd/rHx/7+6+d4rI/z+uq9sn8s18u5i/PG4tyrexz3bsffr5f3HvP7vnEer/a3Xu6x2N/K+V/7X8+3i++u7jn3v/Ns9+fWxv6s8+f15/lvnvPj7/32fne3Oe/j/XmbWxkf69ti/2/XV9970/q2nZ5bGd+2uZg/9pdzZj1nlv3fO/9p3/zhPco5x88763xZr/NzMb967+n8i/eX56/us1hv+++97b+Hr/GxPi/G/+n7+779fysAIIkAAIBAAgAAAgkAAAgkAAAgkAAAgEACAAACCQAACCQAACCQAACAQAIAAAIJAAAIJAAAIJAAAIBAAgAAAgkAAAgkAAAgkAAAgEACAAACCQAACCQAACCQAACAQAIAAAIJAAAIJAAAIJAAAIBAAgAAAgkAAAgkAAAgkAAAgEACAAACCQAACCQAACCQAACAQAIAAAIJAAAIJAAAIJAAAIBAAgAAAgkAAAgkAAAgkAAAgEACAAACCQAACCQAACCQAACAQAIAAAIJAAAIJAAAIJAAAIBAAgAAAgkAAAgkAAAgkAAAgEACAAACCQAACCQAACCQAACAQAIAAAIJAAAIJAAAIJAAAIBAAgAAAn0CyK5V+uT9Ti4AAAAASUVORK5CYII=\"></div><div style=\"vertical-align: middle; max-width: 514px; display: flex; justify-content: space-between;\"><div style=\"float: left;\"><div title=\"#543005ff\" style=\"display: inline-block; width: 1em; height: 1em; margin: 0; vertical-align: middle; border: 1px solid #555; background-color: #543005ff;\"></div> under</div><div style=\"margin: 0 auto; display: inline-block;\">bad <div title=\"#00000000\" style=\"display: inline-block; width: 1em; height: 1em; margin: 0; vertical-align: middle; border: 1px solid #555; background-color: #00000000;\"></div></div><div style=\"float: right;\">over <div title=\"#003c30ff\" style=\"display: inline-block; width: 1em; height: 1em; margin: 0; vertical-align: middle; border: 1px solid #555; background-color: #003c30ff;\"></div></div></div>"
      ],
      "text/plain": [
       "<matplotlib.colors.LinearSegmentedColormap at 0x31d851c40>"
      ]
     },
     "execution_count": 26,
     "metadata": {},
     "output_type": "execute_result"
    }
   ],
   "source": [
    "BrBG_10.mpl_colormap"
   ]
  },
  {
   "cell_type": "code",
   "execution_count": 30,
   "id": "0b672d5b-55fa-4c83-b48d-ed3a7f4a1ded",
   "metadata": {},
   "outputs": [],
   "source": [
    "from lonboard.colormap import apply_continuous_cmap\n",
    "from palettable.colorbrewer.sequential import Oranges_9\n",
    "polygon_layer.get_fill_color = apply_continuous_cmap(normalized_einwohner, Oranges_9, alpha = 0.7)"
   ]
  },
  {
   "cell_type": "code",
   "execution_count": 18,
   "id": "7d5548da-5130-4410-8e0e-707341214a7f",
   "metadata": {},
   "outputs": [],
   "source": [
    "# Legend\n",
    "fig, ax = plt.subplots(figsize=(8, 1), subplot_kw={'aspect': 'auto'})\n",
    "\n",
    "cbar = plt.colorbar(\n",
    "    plt.cm.ScalarMappable(norm=LogNorm(vmin=gdf_population['Einwohner'].min(), vmax=gdf_population['Einwohner'].max()), cmap=colormap),\n",
    "    cax=ax,\n",
    "    orientation='horizontal'\n",
    ")\n",
    "\n",
    "cbar.set_ticks([gdf_population['Einwohner'].min(), gdf_population['Einwohner'].max()])\n",
    "cbar.ax.xaxis.set_major_formatter(mticker.ScalarFormatter())\n",
    "cbar.set_label('Population per cell', fontsize=12)\n",
    "cbar.ax.tick_params(labelsize=12)\n",
    "\n",
    "plt.tight_layout()\n",
    "\n",
    "buf = io.BytesIO()\n",
    "plt.savefig(buf, format='png', bbox_inches='tight', pad_inches=0.1, dpi=400)\n",
    "buf.seek(0)\n",
    "plt.close(fig)\n",
    "\n",
    "colorbar_widget = widgets.Image(\n",
    "    value=buf.read(),\n",
    "    format='png',\n",
    "    width=600,\n",
    "    height=50\n",
    ")"
   ]
  },
  {
   "cell_type": "code",
   "execution_count": 21,
   "id": "42798a3a-0c80-4abd-a963-5a9e4fcb4035",
   "metadata": {},
   "outputs": [],
   "source": [
    "polygon_layer.get_fill_color = [0,0,200,200]"
   ]
  },
  {
   "cell_type": "code",
   "execution_count": 38,
   "id": "b4893f78-ae9f-496d-9223-2c30ecf5f764",
   "metadata": {},
   "outputs": [],
   "source": [
    "polygon_layer.get_elevation = 1000 * normalized_einwohner"
   ]
  },
  {
   "cell_type": "code",
   "execution_count": 11,
   "id": "c48e65c1-53b0-45ab-8fca-44498fa186de",
   "metadata": {},
   "outputs": [],
   "source": [
    "\n",
    "from lonboard.controls import MultiRangeSlider\n",
    "from lonboard.layer_extension import DataFilterExtension\n",
    "\n",
    "filter_extension = DataFilterExtension(filter_size=1)"
   ]
  },
  {
   "cell_type": "code",
   "execution_count": 42,
   "id": "5daf85da-e9c0-4edc-84ec-c17a8d02f008",
   "metadata": {},
   "outputs": [
    {
     "data": {
      "text/plain": [
       "3549"
      ]
     },
     "execution_count": 42,
     "metadata": {},
     "output_type": "execute_result"
    }
   ],
   "source": [
    "gdf_population[\"Einwohner\"].max()"
   ]
  },
  {
   "cell_type": "code",
   "execution_count": 12,
   "id": "bd4aa12b-b4b3-450b-a12c-1c8468ad0a43",
   "metadata": {},
   "outputs": [],
   "source": [
    "import numpy as np\n",
    "filter_values = np.column_stack(\n",
    "    [gdf_population[\"Einwohner\"]]\n",
    ")\n",
    "initial_filter_range = [\n",
    "    200, 2000\n",
    "]"
   ]
  },
  {
   "cell_type": "code",
   "execution_count": 13,
   "id": "f73c239e-2b7a-4a8a-8bf6-9dcea1b94c0b",
   "metadata": {},
   "outputs": [],
   "source": [
    "from lonboard.controls import FloatRangeSlider\n",
    "\n",
    "latency_slider = FloatRangeSlider(value=initial_filter_range, min=gdf_population['Einwohner'].min(), max=gdf_population['Einwohner'].max(), step=10, description=\"Einwohner: \")\n"
   ]
  },
  {
   "cell_type": "code",
   "execution_count": 14,
   "id": "f43489d5-a7cf-4b28-9939-1030798bc109",
   "metadata": {},
   "outputs": [
    {
     "data": {
      "application/vnd.jupyter.widget-view+json": {
       "model_id": "be920ef3fd974283b38dba4788a01f47",
       "version_major": 2,
       "version_minor": 0
      },
      "text/plain": [
       "FloatRangeSlider(value=(200.0, 2000.0), description='Einwohner: ', max=3549.0, min=3.0, step=10.0)"
      ]
     },
     "execution_count": 14,
     "metadata": {},
     "output_type": "execute_result"
    }
   ],
   "source": [
    "latency_slider"
   ]
  },
  {
   "cell_type": "code",
   "execution_count": 76,
   "id": "6ac3d1db-95ce-4309-98c2-f935ec47f11e",
   "metadata": {},
   "outputs": [],
   "source": [
    "from ipywidgets import FloatRangeSlider, jsdlink\n",
    "_ = jsdlink((latency_slider, \"value\"), (polygon_layer, \"filter_range\"))"
   ]
  },
  {
   "cell_type": "code",
   "execution_count": 62,
   "id": "1897b933-9eed-4fe5-ad2c-b8f85dca7298",
   "metadata": {},
   "outputs": [
    {
     "data": {
      "application/vnd.jupyter.widget-view+json": {
       "model_id": "33d8b5c3893e4a7f83ea7dad0b102462",
       "version_major": 2,
       "version_minor": 0
      },
      "text/plain": [
       "VBox(children=(Map(basemap_style=<CartoBasemap.Positron: 'https://basemaps.cartocdn.com/gl/positron-gl-style/s…"
      ]
     },
     "execution_count": 62,
     "metadata": {},
     "output_type": "execute_result"
    }
   ],
   "source": [
    "widgets.VBox([m, colorbar_widget])"
   ]
  },
  {
   "cell_type": "code",
   "execution_count": 30,
   "id": "4bcedd1d-11fc-4c36-aa63-ec927a9c325d",
   "metadata": {},
   "outputs": [],
   "source": [
    "from sidecar import Sidecar"
   ]
  },
  {
   "cell_type": "code",
   "execution_count": 29,
   "id": "9c63a1fb-f0d1-41f9-abc3-041ef5e443d7",
   "metadata": {},
   "outputs": [
    {
     "name": "stdout",
     "output_type": "stream",
     "text": [
      "Requirement already satisfied: sidecar in /Users/sandi/Repositories/Pattern_Comparison_Hamburg_Case/gravity_model/lib/python3.12/site-packages (0.7.0)\n",
      "Requirement already satisfied: pyogrio in /Users/sandi/Repositories/Pattern_Comparison_Hamburg_Case/gravity_model/lib/python3.12/site-packages (0.9.0)\n",
      "Requirement already satisfied: ipywidgets<9,>=8 in /Users/sandi/Repositories/Pattern_Comparison_Hamburg_Case/gravity_model/lib/python3.12/site-packages (from sidecar) (8.1.5)\n",
      "Requirement already satisfied: certifi in /Users/sandi/Repositories/Pattern_Comparison_Hamburg_Case/gravity_model/lib/python3.12/site-packages (from pyogrio) (2024.7.4)\n",
      "Requirement already satisfied: numpy in /Users/sandi/Repositories/Pattern_Comparison_Hamburg_Case/gravity_model/lib/python3.12/site-packages (from pyogrio) (1.26.4)\n",
      "Requirement already satisfied: packaging in /Users/sandi/Repositories/Pattern_Comparison_Hamburg_Case/gravity_model/lib/python3.12/site-packages (from pyogrio) (24.1)\n",
      "Requirement already satisfied: comm>=0.1.3 in /Users/sandi/Repositories/Pattern_Comparison_Hamburg_Case/gravity_model/lib/python3.12/site-packages (from ipywidgets<9,>=8->sidecar) (0.2.2)\n",
      "Requirement already satisfied: ipython>=6.1.0 in /Users/sandi/Repositories/Pattern_Comparison_Hamburg_Case/gravity_model/lib/python3.12/site-packages (from ipywidgets<9,>=8->sidecar) (8.26.0)\n",
      "Requirement already satisfied: traitlets>=4.3.1 in /Users/sandi/Repositories/Pattern_Comparison_Hamburg_Case/gravity_model/lib/python3.12/site-packages (from ipywidgets<9,>=8->sidecar) (5.14.3)\n",
      "Requirement already satisfied: widgetsnbextension~=4.0.12 in /Users/sandi/Repositories/Pattern_Comparison_Hamburg_Case/gravity_model/lib/python3.12/site-packages (from ipywidgets<9,>=8->sidecar) (4.0.13)\n",
      "Requirement already satisfied: jupyterlab-widgets~=3.0.12 in /Users/sandi/Repositories/Pattern_Comparison_Hamburg_Case/gravity_model/lib/python3.12/site-packages (from ipywidgets<9,>=8->sidecar) (3.0.13)\n",
      "Requirement already satisfied: decorator in /Users/sandi/Repositories/Pattern_Comparison_Hamburg_Case/gravity_model/lib/python3.12/site-packages (from ipython>=6.1.0->ipywidgets<9,>=8->sidecar) (5.1.1)\n",
      "Requirement already satisfied: jedi>=0.16 in /Users/sandi/Repositories/Pattern_Comparison_Hamburg_Case/gravity_model/lib/python3.12/site-packages (from ipython>=6.1.0->ipywidgets<9,>=8->sidecar) (0.19.1)\n",
      "Requirement already satisfied: matplotlib-inline in /Users/sandi/Repositories/Pattern_Comparison_Hamburg_Case/gravity_model/lib/python3.12/site-packages (from ipython>=6.1.0->ipywidgets<9,>=8->sidecar) (0.1.7)\n",
      "Requirement already satisfied: prompt-toolkit<3.1.0,>=3.0.41 in /Users/sandi/Repositories/Pattern_Comparison_Hamburg_Case/gravity_model/lib/python3.12/site-packages (from ipython>=6.1.0->ipywidgets<9,>=8->sidecar) (3.0.47)\n",
      "Requirement already satisfied: pygments>=2.4.0 in /Users/sandi/Repositories/Pattern_Comparison_Hamburg_Case/gravity_model/lib/python3.12/site-packages (from ipython>=6.1.0->ipywidgets<9,>=8->sidecar) (2.18.0)\n",
      "Requirement already satisfied: stack-data in /Users/sandi/Repositories/Pattern_Comparison_Hamburg_Case/gravity_model/lib/python3.12/site-packages (from ipython>=6.1.0->ipywidgets<9,>=8->sidecar) (0.6.3)\n",
      "Requirement already satisfied: pexpect>4.3 in /Users/sandi/Repositories/Pattern_Comparison_Hamburg_Case/gravity_model/lib/python3.12/site-packages (from ipython>=6.1.0->ipywidgets<9,>=8->sidecar) (4.9.0)\n",
      "Requirement already satisfied: parso<0.9.0,>=0.8.3 in /Users/sandi/Repositories/Pattern_Comparison_Hamburg_Case/gravity_model/lib/python3.12/site-packages (from jedi>=0.16->ipython>=6.1.0->ipywidgets<9,>=8->sidecar) (0.8.4)\n",
      "Requirement already satisfied: ptyprocess>=0.5 in /Users/sandi/Repositories/Pattern_Comparison_Hamburg_Case/gravity_model/lib/python3.12/site-packages (from pexpect>4.3->ipython>=6.1.0->ipywidgets<9,>=8->sidecar) (0.7.0)\n",
      "Requirement already satisfied: wcwidth in /Users/sandi/Repositories/Pattern_Comparison_Hamburg_Case/gravity_model/lib/python3.12/site-packages (from prompt-toolkit<3.1.0,>=3.0.41->ipython>=6.1.0->ipywidgets<9,>=8->sidecar) (0.2.13)\n",
      "Requirement already satisfied: executing>=1.2.0 in /Users/sandi/Repositories/Pattern_Comparison_Hamburg_Case/gravity_model/lib/python3.12/site-packages (from stack-data->ipython>=6.1.0->ipywidgets<9,>=8->sidecar) (2.0.1)\n",
      "Requirement already satisfied: asttokens>=2.1.0 in /Users/sandi/Repositories/Pattern_Comparison_Hamburg_Case/gravity_model/lib/python3.12/site-packages (from stack-data->ipython>=6.1.0->ipywidgets<9,>=8->sidecar) (2.4.1)\n",
      "Requirement already satisfied: pure-eval in /Users/sandi/Repositories/Pattern_Comparison_Hamburg_Case/gravity_model/lib/python3.12/site-packages (from stack-data->ipython>=6.1.0->ipywidgets<9,>=8->sidecar) (0.2.3)\n",
      "Requirement already satisfied: six>=1.12.0 in /Users/sandi/Repositories/Pattern_Comparison_Hamburg_Case/gravity_model/lib/python3.12/site-packages (from asttokens>=2.1.0->stack-data->ipython>=6.1.0->ipywidgets<9,>=8->sidecar) (1.16.0)\n"
     ]
    }
   ],
   "source": [
    "!pip install sidecar pyogrio"
   ]
  },
  {
   "cell_type": "code",
   "execution_count": 33,
   "id": "982ef826-16f7-46d8-9ada-8d72d93b6893",
   "metadata": {},
   "outputs": [],
   "source": [
    "sc = Sidecar(title='My Map')"
   ]
  },
  {
   "cell_type": "code",
   "execution_count": 35,
   "id": "c59145e2-b504-4cc9-a8fd-4574e1586d20",
   "metadata": {},
   "outputs": [
    {
     "data": {
      "application/vnd.jupyter.widget-view+json": {
       "model_id": "57f5dd1b590545bcb65d4bdbc5a54b8a",
       "version_major": 2,
       "version_minor": 1
      },
      "text/plain": [
       "Map(basemap_style=<CartoBasemap.Positron: 'https://basemaps.cartocdn.com/gl/positron-gl-style/style.json'>, la…"
      ]
     },
     "metadata": {},
     "output_type": "display_data"
    }
   ],
   "source": [
    "with sc:\n",
    "    display(m)"
   ]
  },
  {
   "cell_type": "code",
   "execution_count": 28,
   "id": "52765012-e0f1-470e-931a-c2796a45f74d",
   "metadata": {},
   "outputs": [
    {
     "data": {
      "application/vnd.jupyter.widget-view+json": {
       "model_id": "57f5dd1b590545bcb65d4bdbc5a54b8a",
       "version_major": 2,
       "version_minor": 1
      },
      "text/plain": [
       "Map(basemap_style=<CartoBasemap.Positron: 'https://basemaps.cartocdn.com/gl/positron-gl-style/style.json'>, la…"
      ]
     },
     "metadata": {},
     "output_type": "display_data"
    }
   ],
   "source": [
    "with sc:\n",
    "    display(m)"
   ]
  },
  {
   "cell_type": "code",
   "execution_count": 39,
   "id": "41444e7e-0164-49b5-a842-b73ec68b9fa4",
   "metadata": {},
   "outputs": [
    {
     "data": {
      "application/vnd.jupyter.widget-view+json": {
       "model_id": "57f5dd1b590545bcb65d4bdbc5a54b8a",
       "version_major": 2,
       "version_minor": 1
      },
      "text/plain": [
       "Map(basemap_style=<CartoBasemap.Positron: 'https://basemaps.cartocdn.com/gl/positron-gl-style/style.json'>, la…"
      ]
     },
     "execution_count": 39,
     "metadata": {},
     "output_type": "execute_result"
    }
   ],
   "source": [
    "m"
   ]
  },
  {
   "cell_type": "code",
   "execution_count": 38,
   "id": "bb27c959-8825-414b-85b3-744f154f4bf2",
   "metadata": {},
   "outputs": [],
   "source": [
    "!open test.html"
   ]
  },
  {
   "cell_type": "markdown",
   "id": "883dd329-ab33-4df5-ae04-b053fda87e7c",
   "metadata": {
    "jp-MarkdownHeadingCollapsed": true
   },
   "source": [
    "# Visualize Population & Warehouses"
   ]
  },
  {
   "cell_type": "code",
   "execution_count": 9,
   "id": "83845963-d174-407d-a634-e95cdb05e37a",
   "metadata": {},
   "outputs": [],
   "source": [
    "df_warehouses = pd.read_pickle('Diffusion_2024_data/Data/cleaned data/geocoded_warehouses.pkl')"
   ]
  },
  {
   "cell_type": "code",
   "execution_count": 10,
   "id": "46f35901-39df-4c88-904a-6c266704fbb6",
   "metadata": {},
   "outputs": [],
   "source": [
    "df_warehouses['geometry'] = df_warehouses.apply(lambda row: Point(row['Longitude'], row['Latitude']), axis=1)\n",
    "gdf_warehouses = gpd.GeoDataFrame(df_warehouses, geometry='geometry')"
   ]
  },
  {
   "cell_type": "code",
   "execution_count": 11,
   "id": "8157cabd-cc09-4b96-bffc-1bac4685cac4",
   "metadata": {},
   "outputs": [
    {
     "data": {
      "text/html": [
       "<div>\n",
       "<style scoped>\n",
       "    .dataframe tbody tr th:only-of-type {\n",
       "        vertical-align: middle;\n",
       "    }\n",
       "\n",
       "    .dataframe tbody tr th {\n",
       "        vertical-align: top;\n",
       "    }\n",
       "\n",
       "    .dataframe thead th {\n",
       "        text-align: right;\n",
       "    }\n",
       "</style>\n",
       "<table border=\"1\" class=\"dataframe\">\n",
       "  <thead>\n",
       "    <tr style=\"text-align: right;\">\n",
       "      <th></th>\n",
       "      <th>Name</th>\n",
       "      <th>City</th>\n",
       "      <th>ZIP</th>\n",
       "      <th>Street</th>\n",
       "      <th>Dry</th>\n",
       "      <th>Frozen</th>\n",
       "      <th>Fresh</th>\n",
       "      <th>sqm</th>\n",
       "      <th>Chain</th>\n",
       "      <th>Latitude</th>\n",
       "      <th>Longitude</th>\n",
       "      <th>Score</th>\n",
       "      <th>geometry</th>\n",
       "    </tr>\n",
       "  </thead>\n",
       "  <tbody>\n",
       "    <tr>\n",
       "      <th>0</th>\n",
       "      <td>Aldi Nord LG Bargteheide</td>\n",
       "      <td>Bargteheide</td>\n",
       "      <td>22941</td>\n",
       "      <td>Max-Planck-Str. 3</td>\n",
       "      <td>133</td>\n",
       "      <td>133</td>\n",
       "      <td>133</td>\n",
       "      <td>52000</td>\n",
       "      <td>Aldi Nord</td>\n",
       "      <td>53.718752</td>\n",
       "      <td>10.296929</td>\n",
       "      <td>100.0</td>\n",
       "      <td>POINT (10.29693 53.71875)</td>\n",
       "    </tr>\n",
       "    <tr>\n",
       "      <th>1</th>\n",
       "      <td>Aldi Nord LG Barleben/Meitzendf.</td>\n",
       "      <td>Barleben</td>\n",
       "      <td>39179</td>\n",
       "      <td>Hintern Hecken 2</td>\n",
       "      <td>78</td>\n",
       "      <td>78</td>\n",
       "      <td>78</td>\n",
       "      <td>24800</td>\n",
       "      <td>Aldi Nord</td>\n",
       "      <td>52.209522</td>\n",
       "      <td>11.556055</td>\n",
       "      <td>100.0</td>\n",
       "      <td>POINT (11.55605 52.20952)</td>\n",
       "    </tr>\n",
       "    <tr>\n",
       "      <th>2</th>\n",
       "      <td>Aldi Nord LG Beucha</td>\n",
       "      <td>Beucha</td>\n",
       "      <td>04824</td>\n",
       "      <td>Gebr.-Helfmann-Str. 8</td>\n",
       "      <td>104</td>\n",
       "      <td>104</td>\n",
       "      <td>104</td>\n",
       "      <td>31000</td>\n",
       "      <td>Aldi Nord</td>\n",
       "      <td>51.330169</td>\n",
       "      <td>12.577958</td>\n",
       "      <td>100.0</td>\n",
       "      <td>POINT (12.57796 51.33017)</td>\n",
       "    </tr>\n",
       "    <tr>\n",
       "      <th>3</th>\n",
       "      <td>Aldi Nord LG Datteln</td>\n",
       "      <td>Datteln</td>\n",
       "      <td>45711</td>\n",
       "      <td>Emscher-Lippe-Str. 6</td>\n",
       "      <td>120</td>\n",
       "      <td>120</td>\n",
       "      <td>120</td>\n",
       "      <td>23500</td>\n",
       "      <td>Aldi Nord</td>\n",
       "      <td>51.639060</td>\n",
       "      <td>7.339308</td>\n",
       "      <td>100.0</td>\n",
       "      <td>POINT (7.33931 51.63906)</td>\n",
       "    </tr>\n",
       "    <tr>\n",
       "      <th>4</th>\n",
       "      <td>Aldi Nord LG Grammetal</td>\n",
       "      <td>Grammetal</td>\n",
       "      <td>99428</td>\n",
       "      <td>Österholzstr. 12</td>\n",
       "      <td>81</td>\n",
       "      <td>81</td>\n",
       "      <td>81</td>\n",
       "      <td>22375</td>\n",
       "      <td>Aldi Nord</td>\n",
       "      <td>50.961155</td>\n",
       "      <td>11.254324</td>\n",
       "      <td>100.0</td>\n",
       "      <td>POINT (11.25432 50.96115)</td>\n",
       "    </tr>\n",
       "    <tr>\n",
       "      <th>...</th>\n",
       "      <td>...</td>\n",
       "      <td>...</td>\n",
       "      <td>...</td>\n",
       "      <td>...</td>\n",
       "      <td>...</td>\n",
       "      <td>...</td>\n",
       "      <td>...</td>\n",
       "      <td>...</td>\n",
       "      <td>...</td>\n",
       "      <td>...</td>\n",
       "      <td>...</td>\n",
       "      <td>...</td>\n",
       "      <td>...</td>\n",
       "    </tr>\n",
       "    <tr>\n",
       "      <th>239</th>\n",
       "      <td>Wasgau LG Pirmasens</td>\n",
       "      <td>Pirmasens</td>\n",
       "      <td>66954</td>\n",
       "      <td>Im Neuen Feld 14</td>\n",
       "      <td>90</td>\n",
       "      <td>90</td>\n",
       "      <td>90</td>\n",
       "      <td>33400</td>\n",
       "      <td>Wasgau</td>\n",
       "      <td>49.179997</td>\n",
       "      <td>7.568209</td>\n",
       "      <td>100.0</td>\n",
       "      <td>POINT (7.56821 49.18000)</td>\n",
       "    </tr>\n",
       "    <tr>\n",
       "      <th>240</th>\n",
       "      <td>Weiling LG Coesfeld</td>\n",
       "      <td>Coesfeld</td>\n",
       "      <td>48653</td>\n",
       "      <td>Erlenweg 134</td>\n",
       "      <td>57</td>\n",
       "      <td>57</td>\n",
       "      <td>57</td>\n",
       "      <td>23050</td>\n",
       "      <td>Weiling</td>\n",
       "      <td>51.919643</td>\n",
       "      <td>7.184940</td>\n",
       "      <td>100.0</td>\n",
       "      <td>POINT (7.18494 51.91964)</td>\n",
       "    </tr>\n",
       "    <tr>\n",
       "      <th>241</th>\n",
       "      <td>Weiling LG Lonsee</td>\n",
       "      <td>Lonsee</td>\n",
       "      <td>89173</td>\n",
       "      <td>Erlenweg 2</td>\n",
       "      <td>29</td>\n",
       "      <td>12</td>\n",
       "      <td>26</td>\n",
       "      <td>16450</td>\n",
       "      <td>Weiling</td>\n",
       "      <td>48.517548</td>\n",
       "      <td>9.910334</td>\n",
       "      <td>100.0</td>\n",
       "      <td>POINT (9.91033 48.51755)</td>\n",
       "    </tr>\n",
       "    <tr>\n",
       "      <th>242</th>\n",
       "      <td>Ziegler LG Ottensoos</td>\n",
       "      <td>Ottensoos</td>\n",
       "      <td>91242</td>\n",
       "      <td>Bräunleinsberg 2</td>\n",
       "      <td>1</td>\n",
       "      <td>0</td>\n",
       "      <td>0</td>\n",
       "      <td>17800</td>\n",
       "      <td>&lt;NA&gt;</td>\n",
       "      <td>49.517522</td>\n",
       "      <td>11.334113</td>\n",
       "      <td>99.1</td>\n",
       "      <td>POINT (11.33411 49.51752)</td>\n",
       "    </tr>\n",
       "    <tr>\n",
       "      <th>243</th>\n",
       "      <td>Ökoring LG Mammendorf</td>\n",
       "      <td>Mammendorf</td>\n",
       "      <td>82291</td>\n",
       "      <td>Dieselstr. 9</td>\n",
       "      <td>0</td>\n",
       "      <td>0</td>\n",
       "      <td>21</td>\n",
       "      <td>None</td>\n",
       "      <td>&lt;NA&gt;</td>\n",
       "      <td>48.215141</td>\n",
       "      <td>11.182973</td>\n",
       "      <td>100.0</td>\n",
       "      <td>POINT (11.18297 48.21514)</td>\n",
       "    </tr>\n",
       "  </tbody>\n",
       "</table>\n",
       "<p>242 rows × 13 columns</p>\n",
       "</div>"
      ],
      "text/plain": [
       "                                 Name         City    ZIP  \\\n",
       "0            Aldi Nord LG Bargteheide  Bargteheide  22941   \n",
       "1    Aldi Nord LG Barleben/Meitzendf.     Barleben  39179   \n",
       "2                 Aldi Nord LG Beucha       Beucha  04824   \n",
       "3                Aldi Nord LG Datteln      Datteln  45711   \n",
       "4              Aldi Nord LG Grammetal    Grammetal  99428   \n",
       "..                                ...          ...    ...   \n",
       "239               Wasgau LG Pirmasens    Pirmasens  66954   \n",
       "240               Weiling LG Coesfeld     Coesfeld  48653   \n",
       "241                 Weiling LG Lonsee       Lonsee  89173   \n",
       "242              Ziegler LG Ottensoos    Ottensoos  91242   \n",
       "243             Ökoring LG Mammendorf   Mammendorf  82291   \n",
       "\n",
       "                    Street  Dry  Frozen  Fresh    sqm      Chain   Latitude  \\\n",
       "0        Max-Planck-Str. 3  133     133    133  52000  Aldi Nord  53.718752   \n",
       "1         Hintern Hecken 2   78      78     78  24800  Aldi Nord  52.209522   \n",
       "2    Gebr.-Helfmann-Str. 8  104     104    104  31000  Aldi Nord  51.330169   \n",
       "3     Emscher-Lippe-Str. 6  120     120    120  23500  Aldi Nord  51.639060   \n",
       "4         Österholzstr. 12   81      81     81  22375  Aldi Nord  50.961155   \n",
       "..                     ...  ...     ...    ...    ...        ...        ...   \n",
       "239       Im Neuen Feld 14   90      90     90  33400     Wasgau  49.179997   \n",
       "240           Erlenweg 134   57      57     57  23050    Weiling  51.919643   \n",
       "241             Erlenweg 2   29      12     26  16450    Weiling  48.517548   \n",
       "242       Bräunleinsberg 2    1       0      0  17800       <NA>  49.517522   \n",
       "243           Dieselstr. 9    0       0     21   None       <NA>  48.215141   \n",
       "\n",
       "     Longitude  Score                   geometry  \n",
       "0    10.296929  100.0  POINT (10.29693 53.71875)  \n",
       "1    11.556055  100.0  POINT (11.55605 52.20952)  \n",
       "2    12.577958  100.0  POINT (12.57796 51.33017)  \n",
       "3     7.339308  100.0   POINT (7.33931 51.63906)  \n",
       "4    11.254324  100.0  POINT (11.25432 50.96115)  \n",
       "..         ...    ...                        ...  \n",
       "239   7.568209  100.0   POINT (7.56821 49.18000)  \n",
       "240   7.184940  100.0   POINT (7.18494 51.91964)  \n",
       "241   9.910334  100.0   POINT (9.91033 48.51755)  \n",
       "242  11.334113   99.1  POINT (11.33411 49.51752)  \n",
       "243  11.182973  100.0  POINT (11.18297 48.21514)  \n",
       "\n",
       "[242 rows x 13 columns]"
      ]
     },
     "execution_count": 11,
     "metadata": {},
     "output_type": "execute_result"
    }
   ],
   "source": [
    "gdf_warehouses"
   ]
  },
  {
   "cell_type": "code",
   "execution_count": 12,
   "id": "8b71a972-fb0b-4784-bab5-00f2e466422a",
   "metadata": {},
   "outputs": [],
   "source": [
    "gdf_warehouses = gdf_warehouses.set_crs(epsg=4326, allow_override=True)"
   ]
  },
  {
   "cell_type": "code",
   "execution_count": 13,
   "id": "e0bd94b5-41ee-48c4-a9f1-d197268939af",
   "metadata": {},
   "outputs": [],
   "source": [
    "scatter_layer = ScatterplotLayer.from_geopandas(\n",
    "    gdf_warehouses,\n",
    "    get_radius=2000,  \n",
    "    get_fill_color=[255, 0, 0, 255]  \n",
    ")"
   ]
  },
  {
   "cell_type": "code",
   "execution_count": 14,
   "id": "12b4f4c9-70c0-4ce6-b6ec-cd7698cc44e7",
   "metadata": {},
   "outputs": [],
   "source": [
    "m = Map(layers=[polygon_layer, scatter_layer], basemap_style=basemap.CartoBasemap.Positron)"
   ]
  },
  {
   "cell_type": "code",
   "execution_count": 16,
   "id": "7abf859f-943c-404c-98af-67e8aec60e70",
   "metadata": {},
   "outputs": [
    {
     "data": {
      "application/vnd.jupyter.widget-view+json": {
       "model_id": "a5f58e9e26b74efc8c828e25f41d0af1",
       "version_major": 2,
       "version_minor": 1
      },
      "text/plain": [
       "Map(basemap_style=<CartoBasemap.Positron: 'https://basemaps.cartocdn.com/gl/positron-gl-style/style.json'>, la…"
      ]
     },
     "execution_count": 16,
     "metadata": {},
     "output_type": "execute_result"
    }
   ],
   "source": [
    "m"
   ]
  },
  {
   "cell_type": "markdown",
   "id": "34436191-9c51-4404-92e7-43858f017938",
   "metadata": {},
   "source": [
    "# Another way to visualize the population using viz"
   ]
  },
  {
   "cell_type": "code",
   "execution_count": 17,
   "id": "f6c77488-7510-4f5e-9dfb-c11e8872e7f6",
   "metadata": {},
   "outputs": [],
   "source": [
    "polygon_kwargs = {\n",
    "    'get_fill_color': colors,\n",
    "    'get_line_color': [0, 0, 0, 0],  # set to transparent\n",
    "    'get_line_width': 0.1            # Optional: set line width if you want visible borders\n",
    "}"
   ]
  },
  {
   "cell_type": "code",
   "execution_count": 18,
   "id": "7cd75576-bcb9-49ac-bb3e-a21c565619b1",
   "metadata": {
    "scrolled": true
   },
   "outputs": [
    {
     "data": {
      "application/vnd.jupyter.widget-view+json": {
       "model_id": "c2f7d973815746f9be0d050bb1fd984e",
       "version_major": 2,
       "version_minor": 1
      },
      "text/plain": [
       "Map(basemap_style=<CartoBasemap.DarkMatter: 'https://basemaps.cartocdn.com/gl/dark-matter-gl-style/style.json'…"
      ]
     },
     "execution_count": 18,
     "metadata": {},
     "output_type": "execute_result"
    }
   ],
   "source": [
    "viz(gdf_population, polygon_kwargs=polygon_kwargs)"
   ]
  },
  {
   "cell_type": "code",
   "execution_count": null,
   "id": "31c5e96d-2512-4f0a-a5e4-ff29083e27c5",
   "metadata": {},
   "outputs": [],
   "source": []
  }
 ],
 "metadata": {
  "kernelspec": {
   "display_name": "Python 3 (ipykernel)",
   "language": "python",
   "name": "python3"
  },
  "language_info": {
   "codemirror_mode": {
    "name": "ipython",
    "version": 3
   },
   "file_extension": ".py",
   "mimetype": "text/x-python",
   "name": "python",
   "nbconvert_exporter": "python",
   "pygments_lexer": "ipython3",
   "version": "3.12.3"
  }
 },
 "nbformat": 4,
 "nbformat_minor": 5
}
