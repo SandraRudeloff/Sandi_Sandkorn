{
 "cells": [
  {
   "cell_type": "markdown",
   "id": "908f9777",
   "metadata": {},
   "source": [
    "# Imports\n",
    "`lonboard` is designed to work effectively within Jupyter Notebooks. Please ensure you use Jupyter Notebook to follow along.  \n",
    "\n",
    "Before starting, make sure you have the following packages installed:\n",
    "- [`lonboard`](https://developmentseed.org/lonboard/) and its dependencies: `anywidget`, `geopandas`, `matplotlib`, `palettable`, `pandas` (which requires `numpy`), `pyarrow` and `shapely`.\n",
    "- `requests`: For fetching data.\n",
    "- `seaborn`: For statistical data visualization.\n",
    "\n",
    "Additionally, the following modules are part of the Python standard library and do not require separate installation:\n",
    "\n",
    "- `zipfile`\n",
    "- `io`\n",
    "- `sys`"
   ]
  },
  {
   "cell_type": "code",
   "execution_count": 1,
   "id": "0ffbe742-9fdd-4efe-9200-8efd8f78f168",
   "metadata": {
    "scrolled": true
   },
   "outputs": [],
   "source": [
    "import requests\n",
    "import zipfile\n",
    "import io\n",
    "import sys\n",
    "\n",
    "from lonboard import Map, SolidPolygonLayer\n",
    "from lonboard.layer_extension import DataFilterExtension\n",
    "import ipywidgets as widgets\n",
    "\n",
    "import pandas as pd\n",
    "import numpy as np\n",
    "import geopandas as gpd\n",
    "\n",
    "import matplotlib as mpl\n",
    "import matplotlib.pyplot as plt\n",
    "from matplotlib.colors import LogNorm\n",
    "import matplotlib.ticker as mticker\n",
    "\n",
    "from shapely.geometry import Polygon\n",
    "\n",
    "import seaborn as sns"
   ]
  },
  {
   "cell_type": "markdown",
   "id": "32c74059",
   "metadata": {},
   "source": [
    "# Fetch Data\n",
    "The population data is stored in a .csv file within a zip folder. We will fetch the data and extract it into a panadas dataframe."
   ]
  },
  {
   "cell_type": "code",
   "execution_count": 2,
   "id": "c2d4910d",
   "metadata": {},
   "outputs": [],
   "source": [
    "url = \"https://www.zensus2022.de/static/Zensus_Veroeffentlichung/Zensus2022_Bevoelkerungszahl.zip\"\n",
    "target_file = \"Zensus2022_Bevoelkerungszahl_100m-Gitter.csv\"\n",
    "\n",
    "response = requests.get(url)\n",
    "\n",
    "if response.status_code == 200:\n",
    "    with zipfile.ZipFile(io.BytesIO(response.content)) as zip_ref: # Open the ZIP file in memory\n",
    "        if target_file in zip_ref.namelist():\n",
    "            with zip_ref.open(target_file) as csv_file:\n",
    "                df_pop = pd.read_csv(csv_file, delimiter=';') \n",
    "        else:\n",
    "            print(f\"{target_file} not found in the ZIP archive.\")\n",
    "else:\n",
    "    print(f\"Failed to download file: {response.status_code}\")"
   ]
  },
  {
   "cell_type": "markdown",
   "id": "c0cc550b",
   "metadata": {},
   "source": [
    "We can take a quick look at this data:"
   ]
  },
  {
   "cell_type": "code",
   "execution_count": 3,
   "id": "fbf9ac13",
   "metadata": {},
   "outputs": [
    {
     "data": {
      "text/html": [
       "<div>\n",
       "<style scoped>\n",
       "    .dataframe tbody tr th:only-of-type {\n",
       "        vertical-align: middle;\n",
       "    }\n",
       "\n",
       "    .dataframe tbody tr th {\n",
       "        vertical-align: top;\n",
       "    }\n",
       "\n",
       "    .dataframe thead th {\n",
       "        text-align: right;\n",
       "    }\n",
       "</style>\n",
       "<table border=\"1\" class=\"dataframe\">\n",
       "  <thead>\n",
       "    <tr style=\"text-align: right;\">\n",
       "      <th></th>\n",
       "      <th>GITTER_ID_100m</th>\n",
       "      <th>x_mp_100m</th>\n",
       "      <th>y_mp_100m</th>\n",
       "      <th>Einwohner</th>\n",
       "    </tr>\n",
       "  </thead>\n",
       "  <tbody>\n",
       "    <tr>\n",
       "      <th>0</th>\n",
       "      <td>CRS3035RES100mN2689100E4337000</td>\n",
       "      <td>4337050</td>\n",
       "      <td>2689150</td>\n",
       "      <td>4</td>\n",
       "    </tr>\n",
       "    <tr>\n",
       "      <th>1</th>\n",
       "      <td>CRS3035RES100mN2689100E4341100</td>\n",
       "      <td>4341150</td>\n",
       "      <td>2689150</td>\n",
       "      <td>11</td>\n",
       "    </tr>\n",
       "    <tr>\n",
       "      <th>2</th>\n",
       "      <td>CRS3035RES100mN2690800E4341200</td>\n",
       "      <td>4341250</td>\n",
       "      <td>2690850</td>\n",
       "      <td>4</td>\n",
       "    </tr>\n",
       "    <tr>\n",
       "      <th>3</th>\n",
       "      <td>CRS3035RES100mN2691200E4341200</td>\n",
       "      <td>4341250</td>\n",
       "      <td>2691250</td>\n",
       "      <td>12</td>\n",
       "    </tr>\n",
       "    <tr>\n",
       "      <th>4</th>\n",
       "      <td>CRS3035RES100mN2691300E4341200</td>\n",
       "      <td>4341250</td>\n",
       "      <td>2691350</td>\n",
       "      <td>3</td>\n",
       "    </tr>\n",
       "  </tbody>\n",
       "</table>\n",
       "</div>"
      ],
      "text/plain": [
       "                   GITTER_ID_100m  x_mp_100m  y_mp_100m  Einwohner\n",
       "0  CRS3035RES100mN2689100E4337000    4337050    2689150          4\n",
       "1  CRS3035RES100mN2689100E4341100    4341150    2689150         11\n",
       "2  CRS3035RES100mN2690800E4341200    4341250    2690850          4\n",
       "3  CRS3035RES100mN2691200E4341200    4341250    2691250         12\n",
       "4  CRS3035RES100mN2691300E4341200    4341250    2691350          3"
      ]
     },
     "execution_count": 3,
     "metadata": {},
     "output_type": "execute_result"
    }
   ],
   "source": [
    "df_pop.head()"
   ]
  },
  {
   "cell_type": "markdown",
   "id": "6f9a7a5e",
   "metadata": {},
   "source": [
    "The data contains four as described in the [data decsription](https://www.zensus2022.de/static/Zensus_Veroeffentlichung/Datensatzbeschreibung_Bevoelkerungszahl_Gitterzellen.xlsx): \n",
    "- `GITTER_ID_100m`: cell identifier\n",
    "- `x_mp_100m`: longitude of the cell centre \n",
    "- `y_mp_100m`: latitude of the cell centre\n",
    "- `Einwohner`: population "
   ]
  },
  {
   "cell_type": "markdown",
   "id": "965e7e9f",
   "metadata": {},
   "source": [
    "# Prepare Data"
   ]
  },
  {
   "cell_type": "code",
   "execution_count": 4,
   "id": "5fa1dbdc-d61e-4daa-91af-8d440c9301da",
   "metadata": {},
   "outputs": [],
   "source": [
    "df_pop.rename(columns={'Einwohner': 'Population'}, inplace=True)\n",
    "#df_pop['Population'] = pd.to_numeric(df_pop['Population'], errors='coerce') # coerce: any value that cannot be converted to a numeric type will be replaced with NaN"
   ]
  },
  {
   "cell_type": "markdown",
   "id": "016c311b",
   "metadata": {},
   "source": [
    "To visualize the data, we need to transform the coordinates into polygons. The dataset uses the [ETRS89-LAEA Europe (EPSG: 3035)](https://epsg.io/3035) coordinate reference system, which measures distances in meters and is suited for Europe. Each cell is 100m x 100m, and the coordinates represent the cell center."
   ]
  },
  {
   "cell_type": "code",
   "execution_count": 5,
   "id": "ebaad8e0",
   "metadata": {},
   "outputs": [],
   "source": [
    "def create_polygon(x, y, half_length=50):\n",
    "    return Polygon([\n",
    "        (x - half_length, y - half_length),\n",
    "        (x + half_length, y - half_length),\n",
    "        (x + half_length, y + half_length),\n",
    "        (x - half_length, y + half_length)\n",
    "    ])\n",
    "    \n",
    "gdf_population = gpd.GeoDataFrame(df_pop['Population'], geometry=df_pop.apply(lambda row: create_polygon(row['x_mp_100m'], row['y_mp_100m']), axis=1), crs = 'EPSG:3035')"
   ]
  },
  {
   "cell_type": "code",
   "execution_count": 6,
   "id": "b3eee8c1-3b54-4d89-8de2-719aa70508e7",
   "metadata": {
    "scrolled": true
   },
   "outputs": [],
   "source": [
    "# Convert the coordinate system to WGS84 (EPSG:4326)\n",
    "gdf_population = gdf_population.to_crs(epsg=4326)"
   ]
  },
  {
   "cell_type": "code",
   "execution_count": 8,
   "id": "e65dbf35",
   "metadata": {},
   "outputs": [
    {
     "name": "stdout",
     "output_type": "stream",
     "text": [
      "<class 'geopandas.geodataframe.GeoDataFrame'>\n",
      "RangeIndex: 3088037 entries, 0 to 3088036\n",
      "Data columns (total 2 columns):\n",
      " #   Column      Dtype   \n",
      "---  ------      -----   \n",
      " 0   Population  int64   \n",
      " 1   geometry    geometry\n",
      "dtypes: geometry(1), int64(1)\n",
      "memory usage: 47.1 MB\n"
     ]
    }
   ],
   "source": [
    "gdf_population.info()"
   ]
  },
  {
   "cell_type": "code",
   "execution_count": 12,
   "id": "22099480",
   "metadata": {},
   "outputs": [
    {
     "data": {
      "text/plain": [
       "np.int64(3)"
      ]
     },
     "execution_count": 12,
     "metadata": {},
     "output_type": "execute_result"
    }
   ],
   "source": [
    "gdf_population['Population'].min()"
   ]
  },
  {
   "cell_type": "code",
   "execution_count": null,
   "id": "851562d8",
   "metadata": {},
   "outputs": [],
   "source": [
    "gdf_population['Population'] = gdf_population"
   ]
  },
  {
   "cell_type": "code",
   "execution_count": 7,
   "id": "63224a9e-3aa4-4e1e-93ac-b1a0395c84e4",
   "metadata": {},
   "outputs": [
    {
     "name": "stdout",
     "output_type": "stream",
     "text": [
      "Size of GeoDataFrame: 47.12 MB\n"
     ]
    },
    {
     "data": {
      "text/html": [
       "<div>\n",
       "<style scoped>\n",
       "    .dataframe tbody tr th:only-of-type {\n",
       "        vertical-align: middle;\n",
       "    }\n",
       "\n",
       "    .dataframe tbody tr th {\n",
       "        vertical-align: top;\n",
       "    }\n",
       "\n",
       "    .dataframe thead th {\n",
       "        text-align: right;\n",
       "    }\n",
       "</style>\n",
       "<table border=\"1\" class=\"dataframe\">\n",
       "  <thead>\n",
       "    <tr style=\"text-align: right;\">\n",
       "      <th></th>\n",
       "      <th>Population</th>\n",
       "      <th>geometry</th>\n",
       "    </tr>\n",
       "  </thead>\n",
       "  <tbody>\n",
       "    <tr>\n",
       "      <th>0</th>\n",
       "      <td>4</td>\n",
       "      <td>POLYGON ((10.21146 47.31529, 10.21278 47.31529...</td>\n",
       "    </tr>\n",
       "    <tr>\n",
       "      <th>1</th>\n",
       "      <td>11</td>\n",
       "      <td>POLYGON ((10.26565 47.31517, 10.26697 47.31517...</td>\n",
       "    </tr>\n",
       "    <tr>\n",
       "      <th>2</th>\n",
       "      <td>4</td>\n",
       "      <td>POLYGON ((10.26705 47.33047, 10.26837 47.33046...</td>\n",
       "    </tr>\n",
       "    <tr>\n",
       "      <th>3</th>\n",
       "      <td>12</td>\n",
       "      <td>POLYGON ((10.26707 47.33407, 10.26839 47.33407...</td>\n",
       "    </tr>\n",
       "    <tr>\n",
       "      <th>4</th>\n",
       "      <td>3</td>\n",
       "      <td>POLYGON ((10.26707 47.33497, 10.26839 47.33497...</td>\n",
       "    </tr>\n",
       "    <tr>\n",
       "      <th>...</th>\n",
       "      <td>...</td>\n",
       "      <td>...</td>\n",
       "    </tr>\n",
       "    <tr>\n",
       "      <th>3088032</th>\n",
       "      <td>14</td>\n",
       "      <td>POLYGON ((8.42288 55.02299, 8.42445 55.02301, ...</td>\n",
       "    </tr>\n",
       "    <tr>\n",
       "      <th>3088033</th>\n",
       "      <td>4</td>\n",
       "      <td>POLYGON ((8.41816 55.02383, 8.41972 55.02385, ...</td>\n",
       "    </tr>\n",
       "    <tr>\n",
       "      <th>3088034</th>\n",
       "      <td>10</td>\n",
       "      <td>POLYGON ((8.41972 55.02385, 8.42129 55.02387, ...</td>\n",
       "    </tr>\n",
       "    <tr>\n",
       "      <th>3088035</th>\n",
       "      <td>3</td>\n",
       "      <td>POLYGON ((8.42129 55.02387, 8.42285 55.02389, ...</td>\n",
       "    </tr>\n",
       "    <tr>\n",
       "      <th>3088036</th>\n",
       "      <td>3</td>\n",
       "      <td>POLYGON ((8.42285 55.02389, 8.42441 55.02391, ...</td>\n",
       "    </tr>\n",
       "  </tbody>\n",
       "</table>\n",
       "<p>3088037 rows × 2 columns</p>\n",
       "</div>"
      ],
      "text/plain": [
       "         Population                                           geometry\n",
       "0                 4  POLYGON ((10.21146 47.31529, 10.21278 47.31529...\n",
       "1                11  POLYGON ((10.26565 47.31517, 10.26697 47.31517...\n",
       "2                 4  POLYGON ((10.26705 47.33047, 10.26837 47.33046...\n",
       "3                12  POLYGON ((10.26707 47.33407, 10.26839 47.33407...\n",
       "4                 3  POLYGON ((10.26707 47.33497, 10.26839 47.33497...\n",
       "...             ...                                                ...\n",
       "3088032          14  POLYGON ((8.42288 55.02299, 8.42445 55.02301, ...\n",
       "3088033           4  POLYGON ((8.41816 55.02383, 8.41972 55.02385, ...\n",
       "3088034          10  POLYGON ((8.41972 55.02385, 8.42129 55.02387, ...\n",
       "3088035           3  POLYGON ((8.42129 55.02387, 8.42285 55.02389, ...\n",
       "3088036           3  POLYGON ((8.42285 55.02389, 8.42441 55.02391, ...\n",
       "\n",
       "[3088037 rows x 2 columns]"
      ]
     },
     "execution_count": 7,
     "metadata": {},
     "output_type": "execute_result"
    }
   ],
   "source": [
    "gdf_population"
   ]
  },
  {
   "cell_type": "markdown",
   "id": "d7962427-bd81-4858-98d5-66b8f91d0820",
   "metadata": {},
   "source": [
    "# Visualize Data using lonboard"
   ]
  },
  {
   "cell_type": "markdown",
   "id": "9e855255",
   "metadata": {},
   "source": [
    "To visualize the population data, we use the [`SolidPolygonLayer`](https://developmentseed.org/lonboard/latest/api/layers/solid-polygon-layer/). We choose this layer over `PolygonLayer` because it does not render polygon outlines and is more performant. \n",
    "We create the `SolidPolygonLayer` from the GeoDataFrame and add it to a `Map`:"
   ]
  },
  {
   "cell_type": "code",
   "execution_count": null,
   "id": "968c5a6d-5def-4815-9a65-6e27105d7300",
   "metadata": {},
   "outputs": [],
   "source": [
    "polygon_layer = SolidPolygonLayer.from_geopandas(\n",
    "    gdf_population,\n",
    ")\n",
    "\n",
    "m = Map(polygon_layer) "
   ]
  },
  {
   "cell_type": "code",
   "execution_count": null,
   "id": "70f35514-30b1-46bc-9f40-c88c06a1ea31",
   "metadata": {},
   "outputs": [],
   "source": [
    "m"
   ]
  },
  {
   "cell_type": "markdown",
   "id": "c8938b14-fefa-4d4e-a86e-fdaad50adeb1",
   "metadata": {},
   "source": [
    "## Set a colormap"
   ]
  },
  {
   "cell_type": "markdown",
   "id": "98817efa-e631-4e6a-b628-d69d3e21d894",
   "metadata": {},
   "source": [
    "We can look at the documentation for [`SolidPolygonLayer`](https://developmentseed.org/lonboard/latest/api/layers/solid-polygon-layer/) to see what other rendering options it allows. Let's set the fill color to something other than black:"
   ]
  },
  {
   "cell_type": "code",
   "execution_count": null,
   "id": "784ecdf5-3589-4247-81fd-d27bca8df0c6",
   "metadata": {},
   "outputs": [],
   "source": [
    "polygon_layer.get_fill_color = [11, 127, 171]"
   ]
  },
  {
   "cell_type": "markdown",
   "id": "6418f580",
   "metadata": {},
   "source": [
    "Blue is pretty, but let's make our map more insightful by coloring each area based on its population by a relevant characteristic.  Using a [colomap](https://matplotlib.org/stable/users/explain/colors/colormaps.html), we'll scale the population values between 0 and 1, making it easy to see and compare different population densities at a glance."
   ]
  },
  {
   "cell_type": "code",
   "execution_count": null,
   "id": "d8b2a500-4cbe-4e52-9a43-19e350e8bc49",
   "metadata": {},
   "outputs": [],
   "source": [
    "colormap = mpl.colormaps[\"YlOrRd\"]\n",
    "normalizer = mpl.colors.Normalize(0, vmax=gdf_population['Population'].max()) #Normalize population to the 0-1 range\n",
    "colors = colormap(normalizer(gdf_population['Population']), bytes=True)"
   ]
  },
  {
   "cell_type": "code",
   "execution_count": null,
   "id": "8d49efe7-0cd6-412b-904a-fdc9e7984ca5",
   "metadata": {},
   "outputs": [],
   "source": [
    "polygon_layer.get_fill_color = colors"
   ]
  },
  {
   "cell_type": "markdown",
   "id": "32013d56-b830-4013-8dd5-b9c317f58882",
   "metadata": {},
   "source": [
    "It looks like the red colors aren’t showing up much on the map, which might suggest that our data is skewed. Let's check:"
   ]
  },
  {
   "cell_type": "code",
   "execution_count": null,
   "id": "8e232dac-3337-4539-be8e-2364dcc148c2",
   "metadata": {},
   "outputs": [],
   "source": [
    "def thousands_formatter(x, pos):\n",
    "    return f'{int(x):,}'\n",
    "    \n",
    "sns.histplot(gdf_population['Population'], bins=100)\n",
    "\n",
    "plt.gca().yaxis.set_major_formatter(mticker.FuncFormatter(thousands_formatter))\n",
    "plt.show()\n",
    "\n",
    "print(\"Skewness value:\",gdf_population['Population'].skew())"
   ]
  },
  {
   "cell_type": "markdown",
   "id": "0c56de71-e260-4bdb-a908-42cd37daf53c",
   "metadata": {},
   "source": [
    "The histogram and skewness show a strong positive skew—most areas have low populations, with just a few spots having really high numbers. This means our linear colormap isn’t showing much color variation. To make the differences stand out, let’s switch to a logarithmic colormap to better highlight population differences."
   ]
  },
  {
   "cell_type": "code",
   "execution_count": null,
   "id": "60aa3f6e-d13a-4f44-9cf9-fa94dcfa1cd0",
   "metadata": {},
   "outputs": [],
   "source": [
    "normalizer = mpl.colors.LogNorm(vmin=gdf_population['Population'].min(), vmax=gdf_population['Population'].max()) # Normalize population to the 0-1 range on a log scale.\n",
    "colors = colormap(normalizer(gdf_population['Population']), bytes=True)"
   ]
  },
  {
   "cell_type": "code",
   "execution_count": null,
   "id": "dc4ef1d9-cdda-4ff7-8b64-293f19809711",
   "metadata": {},
   "outputs": [],
   "source": [
    "polygon_layer.get_fill_color = colors"
   ]
  },
  {
   "cell_type": "markdown",
   "id": "e5dab069-ce32-4248-8804-64bf3baafc8b",
   "metadata": {},
   "source": [
    "## Add a Legend\n",
    "To make our map even clearer, we’ll add a colorbar that shows how population densities translate into colors. \n",
    "Here’s how we set it up:"
   ]
  },
  {
   "cell_type": "code",
   "execution_count": null,
   "id": "7d5548da-5130-4410-8e0e-707341214a7f",
   "metadata": {},
   "outputs": [],
   "source": [
    "fig, ax = plt.subplots(figsize=(8, 0.8))\n",
    "\n",
    "# Define the colorbar with LogNorm and the specified colormap\n",
    "cbar = plt.colorbar(\n",
    "    plt.cm.ScalarMappable(norm=LogNorm(vmin=gdf_population['Population'].min(), vmax=gdf_population['Population'].max()), cmap=colormap),\n",
    "    cax=ax,\n",
    "    orientation='horizontal'\n",
    ")\n",
    "\n",
    "tick_values = np.logspace(np.log10(gdf_population['Population'].min()), np.log10(gdf_population['Population'].max()), num=5, base=10.0)\n",
    "cbar.set_ticks(tick_values)\n",
    "cbar.ax.xaxis.set_major_formatter(mticker.FuncFormatter(thousands_formatter))\n",
    "cbar.ax.tick_params(labelsize=8)\n",
    "\n",
    "cbar.set_label('Population per cell', fontsize=10)\n",
    "\n",
    "colorbar_output = widgets.Output()\n",
    "\n",
    "with colorbar_output:\n",
    "    plt.tight_layout()\n",
    "    plt.show()"
   ]
  },
  {
   "cell_type": "code",
   "execution_count": null,
   "id": "b8f04f23-e1f4-436d-bfd8-a2ea2c9c87bd",
   "metadata": {},
   "outputs": [],
   "source": [
    "widgets.VBox([m, colorbar_output])"
   ]
  },
  {
   "cell_type": "markdown",
   "id": "0cfea212-0a1f-4eab-984a-c859fcc7dd02",
   "metadata": {},
   "source": [
    "## Sharing your Map"
   ]
  },
  {
   "cell_type": "markdown",
   "id": "f8f545dd-bd8a-4ae6-a09a-76712729c3c7",
   "metadata": {},
   "source": [
    "To share your interactive map, you can save it as an HTML file. This allows others to view and interact with the map without needing any special software. Here’s a simple way to save your map:"
   ]
  },
  {
   "cell_type": "code",
   "execution_count": null,
   "id": "17f8815f-c026-4182-8dfb-6bb84789b3e5",
   "metadata": {},
   "outputs": [],
   "source": [
    "m.to_html(\"visualization_population.html\")"
   ]
  },
  {
   "cell_type": "code",
   "execution_count": null,
   "id": "b279f604-8dae-42dd-a63e-0b18cea8a700",
   "metadata": {},
   "outputs": [],
   "source": [
    "!open visualization_population.html"
   ]
  },
  {
   "cell_type": "markdown",
   "id": "9a874440-9b7b-417b-bac4-7246575c1426",
   "metadata": {},
   "source": [
    "However, be aware that saving to HTML means the entire data is embedded in the file. This can result in a large file size, which may not be the most efficient for sharing large datasets."
   ]
  },
  {
   "cell_type": "markdown",
   "id": "91d827b1-cc51-4193-8f47-32c1ada6702d",
   "metadata": {},
   "source": [
    "## Sharing Your Map\n",
    "\n",
    "Saving as an HTML file embeds all data, which can make the file large and less efficient for big datasets. Another option is to use [`Shiny`](https://developmentseed.org/lonboard/latest/ecosystem/shiny/) which integrates with Jupyter Widgets and supports Lonboard. "
   ]
  },
  {
   "cell_type": "markdown",
   "id": "52fb9de8-6ba8-4966-816d-1db6a55ac01c",
   "metadata": {},
   "source": [
    "## Interactive Filtering"
   ]
  },
  {
   "cell_type": "markdown",
   "id": "90f70702-d01e-451d-be97-6765446340d9",
   "metadata": {},
   "source": [
    "To make our map even more interactive, we can filter the data based on specific criteria. By using widgets like sliders, we can dynamically adjust which data is displayed. For example, we can set up filters to show only areas with populations within a certain range. "
   ]
  },
  {
   "cell_type": "code",
   "execution_count": null,
   "id": "c48e65c1-53b0-45ab-8fca-44498fa186de",
   "metadata": {},
   "outputs": [],
   "source": [
    "filter_extension = DataFilterExtension()"
   ]
  },
  {
   "cell_type": "code",
   "execution_count": null,
   "id": "cbbb71fc-f8fd-4576-8942-3212f0e70a6a",
   "metadata": {},
   "outputs": [],
   "source": [
    "polygon_layer = SolidPolygonLayer.from_geopandas(\n",
    "    gdf_population,\n",
    "    get_fill_color = colors,\n",
    "    extensions=[filter_extension],\n",
    "    get_filter_value=gdf_population['Population'], \n",
    "    filter_range=[3, 3549] \n",
    ")"
   ]
  },
  {
   "cell_type": "code",
   "execution_count": null,
   "id": "ee405cbc-e452-4ec6-a579-0e6218d91136",
   "metadata": {
    "scrolled": true
   },
   "outputs": [],
   "source": [
    "with widgets.Output():\n",
    "    # Create the slider\n",
    "    slider = widgets.IntRangeSlider(\n",
    "        value=(3, 25),\n",
    "        min=3,\n",
    "        max=3549,\n",
    "        step=1,\n",
    "        description=\"Slider: \",\n",
    "        layout=widgets.Layout(width='600px'), \n",
    "    )\n",
    "\n",
    "    # Link the slider to the polygon layer \n",
    "    widgets.jsdlink(\n",
    "        (slider, \"value\"),\n",
    "        (polygon_layer, \"filter_range\")\n",
    "    )"
   ]
  },
  {
   "cell_type": "code",
   "execution_count": null,
   "id": "45d75174-25ac-46ca-90e9-0189a432ef59",
   "metadata": {},
   "outputs": [],
   "source": [
    "slider"
   ]
  },
  {
   "cell_type": "code",
   "execution_count": null,
   "id": "ada52da0-6f77-443a-b289-a111918c17a2",
   "metadata": {},
   "outputs": [],
   "source": [
    "m = Map(polygon_layer)\n",
    "m"
   ]
  },
  {
   "cell_type": "markdown",
   "id": "335ac80b-b589-4109-8e57-c33f1f444813",
   "metadata": {},
   "source": [
    "# Creating 3D Maps"
   ]
  },
  {
   "cell_type": "markdown",
   "id": "2bce0423-730b-4897-b938-df400ef57e4d",
   "metadata": {},
   "source": [
    "To add a 3D perspective to our map, we can visualize the polygon layer with elevation. By setting the `extruded` parameter to `True`, we give the polygons height based on population data.\n",
    "\n",
    "Here’s how it works:"
   ]
  },
  {
   "cell_type": "code",
   "execution_count": null,
   "id": "d552b1d1-622f-4725-b00c-27ee7f1704d0",
   "metadata": {},
   "outputs": [],
   "source": [
    "polygon_layer = SolidPolygonLayer.from_geopandas(\n",
    "    gdf_population,\n",
    "    get_fill_color= colors,\n",
    "    extruded = True\n",
    ")"
   ]
  },
  {
   "cell_type": "code",
   "execution_count": null,
   "id": "b4893f78-ae9f-496d-9223-2c30ecf5f764",
   "metadata": {},
   "outputs": [],
   "source": [
    "polygon_layer.get_elevation = 1500 * normalizer(gdf_population['Population'])"
   ]
  },
  {
   "cell_type": "code",
   "execution_count": null,
   "id": "afa353be-79dc-469d-9ba6-b3983621c32c",
   "metadata": {},
   "outputs": [],
   "source": [
    "m = Map(polygon_layer)\n",
    "m"
   ]
  }
 ],
 "metadata": {
  "kernelspec": {
   "display_name": "Python 3 (ipykernel)",
   "language": "python",
   "name": "python3"
  },
  "language_info": {
   "codemirror_mode": {
    "name": "ipython",
    "version": 3
   },
   "file_extension": ".py",
   "mimetype": "text/x-python",
   "name": "python",
   "nbconvert_exporter": "python",
   "pygments_lexer": "ipython3",
   "version": "3.12.3"
  }
 },
 "nbformat": 4,
 "nbformat_minor": 5
}
