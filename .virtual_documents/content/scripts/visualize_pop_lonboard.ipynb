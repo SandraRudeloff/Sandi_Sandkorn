


import requests
import zipfile
import io
import sys

from lonboard import Map, SolidPolygonLayer
from lonboard.layer_extension import DataFilterExtension
import ipywidgets as widgets

import pandas as pd
import numpy as np
import geopandas as gpd

import matplotlib as mpl
import matplotlib.pyplot as plt
from matplotlib.colors import LogNorm
import matplotlib.ticker as mticker

from shapely.geometry import Polygon

import seaborn as sns





url = "https://www.zensus2022.de/static/Zensus_Veroeffentlichung/Zensus2022_Bevoelkerungszahl.zip"
target_file = "Zensus2022_Bevoelkerungszahl_100m-Gitter.csv"


response = requests.get(url)

with zipfile.ZipFile(io.BytesIO(response.content)) as zip_ref: # Open the ZIP file in memory
    with zip_ref.open(target_file) as csv_file:
        df_pop = pd.read_csv(csv_file, delimiter=';') 


df_pop.head()


df_pop.rename( columns = {'Einwohner':'Population'}, inplace = True)


def create_polygon(x, y, half_length=50):
    return Polygon([
        (x - half_length, y - half_length),
        (x + half_length, y - half_length),
        (x + half_length, y + half_length),
        (x - half_length, y + half_length)
    ])


gdf_population = gpd.GeoDataFrame(df_pop['Population'], geometry = df_pop.apply(lambda row: create_polygon(row['x_mp_100m'], row['y_mp_100m']), axis = 1), crs = 'EPSG:3035')


gdf_population = gdf_population.to_crs(epsg = 4326)


gdf_population.info()


gdf_population.head()


polygon_layer = SolidPolygonLayer.from_geopandas(gdf_population)


m = Map(polygon_layer)


m


polygon_layer.get_fill_color = [11, 127, 171]


colormap = mpl.colormaps["YlOrRd"]


normalizer = mpl.colors.Normalize(0, gdf_population['Population'].max())


colors = colormap(normalizer(gdf_population['Population']), bytes = True)


polygon_layer.get_fill_color = colors


sns.histplot(gdf_population['Population'], bins = 100)


gdf_population['Population'].skew()


normalizer = mpl.colors.LogNorm(gdf_population['Population'].min(), gdf_population['Population'].max())


colors = colormap(normalizer(gdf_population['Population']), bytes = True)


polygon_layer.get_fill_color = colors


def thousands_formatter(x, pos):
    return f'{int(x):,}'

def create_colorbar():
    fig, ax = plt.subplots(figsize=(8, 0.8))
    
    # Define the colorbar with LogNorm and the specified colormap
    cbar = plt.colorbar(
        plt.cm.ScalarMappable(norm=LogNorm(vmin=gdf_population['Population'].min(), vmax=gdf_population['Population'].max()), cmap=colormap),
        cax=ax,
        orientation='horizontal'
    )
    
    tick_values = np.logspace(np.log10(gdf_population['Population'].min()), np.log10(gdf_population['Population'].max()), num=5)
    cbar.set_ticks(tick_values)
    cbar.ax.xaxis.set_major_formatter(mticker.FuncFormatter(thousands_formatter))
    cbar.ax.tick_params(labelsize=8)

    cbar.set_label('Population per cell', fontsize=10)
    
    plt.tight_layout()
    plt.show()

create_colorbar()


m.to_html("visualize_pop.html")


get_ipython().getoutput("open visualize_pop.html")


filter_extension = DataFilterExtension()


polygon_layer = SolidPolygonLayer.from_geopandas(
    gdf_population,
    get_fill_color = colors,
    extensions=[filter_extension],
    get_filter_value=gdf_population['Population'], 
    filter_range=[3, 3549] 
)


with widgets.Output():
    # Create the slider
    slider = widgets.IntRangeSlider(
        value=(3, 25),
        min=3,
        max=3549,
        step=1,
        description="Slider: ",
        layout=widgets.Layout(width='600px'), 
    )

    # Link the slider to the polygon layer 
    widgets.jsdlink(
        (slider, "value"),
        (polygon_layer, "filter_range")
    )


slider


m = Map(polygon_layer)
m


polygon_layer = SolidPolygonLayer.from_geopandas(
    gdf_population,
    get_fill_color= colors,
    extruded = True
)


polygon_layer.get_elevation = 1500 * normalizer(gdf_population['Population'])


m = Map(polygon_layer)
m



